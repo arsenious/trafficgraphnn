{
 "cells": [
  {
   "cell_type": "code",
   "execution_count": 1,
   "metadata": {},
   "outputs": [
    {
     "name": "stderr",
     "output_type": "stream",
     "text": [
      "2018-07-26 14:42:41,411 matplotlib.font_manager:1465 DEBUG    Using fontManager instance from /home/simon/.cache/matplotlib/fontList.json\n",
      "2018-07-26 14:42:41,695 matplotlib.backends:90  DEBUG    backend module://ipykernel.pylab.backend_inline version unknown\n",
      "2018-07-26 14:42:41,835 matplotlib.backends:90  DEBUG    backend module://ipykernel.pylab.backend_inline version unknown\n"
     ]
    }
   ],
   "source": [
    "from trafficgraphnn.sumo_network import SumoNetwork\n",
    "from trafficgraphnn.utils import parse_detector_output_xml, parse_tls_output_xml\n",
    "from lxml import etree\n",
    "import pandas as pd\n",
    "import sumolib\n",
    "from sumolib.net import readNet\n",
    "import networkx as nx\n",
    "import six"
   ]
  },
  {
   "cell_type": "code",
   "execution_count": 2,
   "metadata": {},
   "outputs": [],
   "source": [
    "# setup: create an object that represents all information associated with a Sumo road network and its output data\n",
    "#sn = SumoNetwork(\n",
    "#    'data/networks/testgrid2/testgrid2.net.xml', routefile='data/networks/testgrid2/testgrid2_rand_routes.routes.xml',\n",
    "#    lanewise=True, addlfiles=[\n",
    "#        'data/networks/testgrid2/testgrid2_e2.add.xml',\n",
    "#        'data/networks/testgrid2/testgrid2_e1.add.xml',\n",
    "#        'data/networks/testgrid2/tls_output.add.xml']\n",
    "#)\n",
    "\n",
    "sn = SumoNetwork(\n",
    "    'data/networks/simonnet/simonnet.net.xml', routefile='data/networks/simonnet/simonnet_rand_routes.routes.xml',\n",
    "    lanewise=True, addlfiles=['data/networks/simonnet/simonnet_e1.add.xml', 'data/networks/simonnet/simonnet_e2.add.xml', 'data/networks/simonnet/tls_output.add.xml']\n",
    ")"
   ]
  },
  {
   "cell_type": "code",
   "execution_count": null,
   "metadata": {},
   "outputs": [],
   "source": []
  },
  {
   "cell_type": "code",
   "execution_count": 3,
   "metadata": {
    "scrolled": false
   },
   "outputs": [],
   "source": [
    "#sn.load_data_to_graph()"
   ]
  },
  {
   "cell_type": "code",
   "execution_count": 4,
   "metadata": {},
   "outputs": [],
   "source": [
    "#sn.run()"
   ]
  },
  {
   "cell_type": "code",
   "execution_count": 5,
   "metadata": {},
   "outputs": [],
   "source": [
    "graph = sn.get_graph()"
   ]
  },
  {
   "cell_type": "code",
   "execution_count": 31,
   "metadata": {
    "scrolled": false
   },
   "outputs": [
    {
     "name": "stdout",
     "output_type": "stream",
     "text": [
      "{'detectors': {'e1_0-0to0-1_0_0': {'freq': '1', 'friendlyPos': 'x', 'id': 'e1_0-0to0-1_0_0', 'file': 'output/simonnet_e1_0-0to0-1_0_0_output.xml', 'lane': '0/0to0/1_0', 'pos': '572.3', 'type': 'e1Detector'}, 'e1_0-0to0-1_0_1': {'freq': '1', 'friendlyPos': 'x', 'id': 'e1_0-0to0-1_0_1', 'file': 'output/simonnet_e1_0-0to0-1_0_1_output.xml', 'lane': '0/0to0/1_0', 'pos': '452.29999999999995', 'type': 'e1Detector'}, 'e2_0-0to0-1_0_0': {'freq': '1', 'friendlyPos': 'x', 'id': 'e2_0-0to0-1_0_0', 'file': 'output/simonnet_e2_0-0to0-1_0_0_output.xml', 'lane': '0/0to0/1_0', 'length': '577.3', 'pos': '0', 'type': 'e2Detector'}}}\n",
      "----------------\n",
      "{'detectors': {'e1_0-0to0-1_1_0': {'freq': '1', 'friendlyPos': 'x', 'id': 'e1_0-0to0-1_1_0', 'file': 'output/simonnet_e1_0-0to0-1_1_0_output.xml', 'lane': '0/0to0/1_1', 'pos': '572.3', 'type': 'e1Detector'}, 'e1_0-0to0-1_1_1': {'freq': '1', 'friendlyPos': 'x', 'id': 'e1_0-0to0-1_1_1', 'file': 'output/simonnet_e1_0-0to0-1_1_1_output.xml', 'lane': '0/0to0/1_1', 'pos': '452.29999999999995', 'type': 'e1Detector'}, 'e2_0-0to0-1_1_0': {'freq': '1', 'friendlyPos': 'x', 'id': 'e2_0-0to0-1_1_0', 'file': 'output/simonnet_e2_0-0to0-1_1_0_output.xml', 'lane': '0/0to0/1_1', 'length': '577.3', 'pos': '0', 'type': 'e2Detector'}}}\n",
      "----------------\n",
      "{'detectors': {'e1_0-0to0-1_2_0': {'freq': '1', 'friendlyPos': 'x', 'id': 'e1_0-0to0-1_2_0', 'file': 'output/simonnet_e1_0-0to0-1_2_0_output.xml', 'lane': '0/0to0/1_2', 'pos': '572.3', 'type': 'e1Detector'}, 'e1_0-0to0-1_2_1': {'freq': '1', 'friendlyPos': 'x', 'id': 'e1_0-0to0-1_2_1', 'file': 'output/simonnet_e1_0-0to0-1_2_1_output.xml', 'lane': '0/0to0/1_2', 'pos': '452.29999999999995', 'type': 'e1Detector'}, 'e2_0-0to0-1_2_0': {'freq': '1', 'friendlyPos': 'x', 'id': 'e2_0-0to0-1_2_0', 'file': 'output/simonnet_e2_0-0to0-1_2_0_output.xml', 'lane': '0/0to0/1_2', 'length': '577.3', 'pos': '0', 'type': 'e2Detector'}}}\n",
      "----------------\n",
      "{'detectors': {'e1_0-0to1-0_0_0': {'freq': '1', 'friendlyPos': 'x', 'id': 'e1_0-0to1-0_0_0', 'file': 'output/simonnet_e1_0-0to1-0_0_0_output.xml', 'lane': '0/0to1/0_0', 'pos': '572.3', 'type': 'e1Detector'}, 'e1_0-0to1-0_0_1': {'freq': '1', 'friendlyPos': 'x', 'id': 'e1_0-0to1-0_0_1', 'file': 'output/simonnet_e1_0-0to1-0_0_1_output.xml', 'lane': '0/0to1/0_0', 'pos': '452.29999999999995', 'type': 'e1Detector'}, 'e2_0-0to1-0_0_0': {'freq': '1', 'friendlyPos': 'x', 'id': 'e2_0-0to1-0_0_0', 'file': 'output/simonnet_e2_0-0to1-0_0_0_output.xml', 'lane': '0/0to1/0_0', 'length': '577.3', 'pos': '0', 'type': 'e2Detector'}}}\n",
      "----------------\n",
      "{'detectors': {'e1_0-0to1-0_1_0': {'freq': '1', 'friendlyPos': 'x', 'id': 'e1_0-0to1-0_1_0', 'file': 'output/simonnet_e1_0-0to1-0_1_0_output.xml', 'lane': '0/0to1/0_1', 'pos': '572.3', 'type': 'e1Detector'}, 'e1_0-0to1-0_1_1': {'freq': '1', 'friendlyPos': 'x', 'id': 'e1_0-0to1-0_1_1', 'file': 'output/simonnet_e1_0-0to1-0_1_1_output.xml', 'lane': '0/0to1/0_1', 'pos': '452.29999999999995', 'type': 'e1Detector'}, 'e2_0-0to1-0_1_0': {'freq': '1', 'friendlyPos': 'x', 'id': 'e2_0-0to1-0_1_0', 'file': 'output/simonnet_e2_0-0to1-0_1_0_output.xml', 'lane': '0/0to1/0_1', 'length': '577.3', 'pos': '0', 'type': 'e2Detector'}}}\n",
      "----------------\n",
      "{'detectors': {'e1_0-0to1-0_2_0': {'freq': '1', 'friendlyPos': 'x', 'id': 'e1_0-0to1-0_2_0', 'file': 'output/simonnet_e1_0-0to1-0_2_0_output.xml', 'lane': '0/0to1/0_2', 'pos': '572.3', 'type': 'e1Detector'}, 'e1_0-0to1-0_2_1': {'freq': '1', 'friendlyPos': 'x', 'id': 'e1_0-0to1-0_2_1', 'file': 'output/simonnet_e1_0-0to1-0_2_1_output.xml', 'lane': '0/0to1/0_2', 'pos': '452.29999999999995', 'type': 'e1Detector'}, 'e2_0-0to1-0_2_0': {'freq': '1', 'friendlyPos': 'x', 'id': 'e2_0-0to1-0_2_0', 'file': 'output/simonnet_e2_0-0to1-0_2_0_output.xml', 'lane': '0/0to1/0_2', 'length': '577.3', 'pos': '0', 'type': 'e2Detector'}}}\n",
      "----------------\n",
      "{}\n",
      "----------------\n",
      "{}\n",
      "----------------\n",
      "{'detectors': {'e1_0-0tobottom0_2_0': {'freq': '1', 'friendlyPos': 'x', 'id': 'e1_0-0tobottom0_2_0', 'file': 'output/simonnet_e1_0-0tobottom0_2_0_output.xml', 'lane': '0/0tobottom0_2', 'pos': '583.65', 'type': 'e1Detector'}, 'e1_0-0tobottom0_2_1': {'freq': '1', 'friendlyPos': 'x', 'id': 'e1_0-0tobottom0_2_1', 'file': 'output/simonnet_e1_0-0tobottom0_2_1_output.xml', 'lane': '0/0tobottom0_2', 'pos': '463.65', 'type': 'e1Detector'}, 'e2_0-0tobottom0_2_0': {'freq': '1', 'friendlyPos': 'x', 'id': 'e2_0-0tobottom0_2_0', 'file': 'output/simonnet_e2_0-0tobottom0_2_0_output.xml', 'lane': '0/0tobottom0_2', 'length': '588.65', 'pos': '0', 'type': 'e2Detector'}}}\n",
      "----------------\n",
      "{}\n",
      "----------------\n",
      "{}\n",
      "----------------\n",
      "{'detectors': {'e1_0-0toleft0_2_0': {'freq': '1', 'friendlyPos': 'x', 'id': 'e1_0-0toleft0_2_0', 'file': 'output/simonnet_e1_0-0toleft0_2_0_output.xml', 'lane': '0/0toleft0_2', 'pos': '583.65', 'type': 'e1Detector'}, 'e1_0-0toleft0_2_1': {'freq': '1', 'friendlyPos': 'x', 'id': 'e1_0-0toleft0_2_1', 'file': 'output/simonnet_e1_0-0toleft0_2_1_output.xml', 'lane': '0/0toleft0_2', 'pos': '463.65', 'type': 'e1Detector'}, 'e2_0-0toleft0_2_0': {'freq': '1', 'friendlyPos': 'x', 'id': 'e2_0-0toleft0_2_0', 'file': 'output/simonnet_e2_0-0toleft0_2_0_output.xml', 'lane': '0/0toleft0_2', 'length': '588.65', 'pos': '0', 'type': 'e2Detector'}}}\n",
      "----------------\n",
      "{'detectors': {'e1_0-1to0-0_0_0': {'freq': '1', 'friendlyPos': 'x', 'id': 'e1_0-1to0-0_0_0', 'file': 'output/simonnet_e1_0-1to0-0_0_0_output.xml', 'lane': '0/1to0/0_0', 'pos': '572.3', 'type': 'e1Detector'}, 'e1_0-1to0-0_0_1': {'freq': '1', 'friendlyPos': 'x', 'id': 'e1_0-1to0-0_0_1', 'file': 'output/simonnet_e1_0-1to0-0_0_1_output.xml', 'lane': '0/1to0/0_0', 'pos': '452.29999999999995', 'type': 'e1Detector'}, 'e2_0-1to0-0_0_0': {'freq': '1', 'friendlyPos': 'x', 'id': 'e2_0-1to0-0_0_0', 'file': 'output/simonnet_e2_0-1to0-0_0_0_output.xml', 'lane': '0/1to0/0_0', 'length': '577.3', 'pos': '0', 'type': 'e2Detector'}}}\n",
      "----------------\n",
      "{'detectors': {'e1_0-1to0-0_1_0': {'freq': '1', 'friendlyPos': 'x', 'id': 'e1_0-1to0-0_1_0', 'file': 'output/simonnet_e1_0-1to0-0_1_0_output.xml', 'lane': '0/1to0/0_1', 'pos': '572.3', 'type': 'e1Detector'}, 'e1_0-1to0-0_1_1': {'freq': '1', 'friendlyPos': 'x', 'id': 'e1_0-1to0-0_1_1', 'file': 'output/simonnet_e1_0-1to0-0_1_1_output.xml', 'lane': '0/1to0/0_1', 'pos': '452.29999999999995', 'type': 'e1Detector'}, 'e2_0-1to0-0_1_0': {'freq': '1', 'friendlyPos': 'x', 'id': 'e2_0-1to0-0_1_0', 'file': 'output/simonnet_e2_0-1to0-0_1_0_output.xml', 'lane': '0/1to0/0_1', 'length': '577.3', 'pos': '0', 'type': 'e2Detector'}}}\n",
      "----------------\n",
      "{'detectors': {'e1_0-1to0-0_2_0': {'freq': '1', 'friendlyPos': 'x', 'id': 'e1_0-1to0-0_2_0', 'file': 'output/simonnet_e1_0-1to0-0_2_0_output.xml', 'lane': '0/1to0/0_2', 'pos': '572.3', 'type': 'e1Detector'}, 'e1_0-1to0-0_2_1': {'freq': '1', 'friendlyPos': 'x', 'id': 'e1_0-1to0-0_2_1', 'file': 'output/simonnet_e1_0-1to0-0_2_1_output.xml', 'lane': '0/1to0/0_2', 'pos': '452.29999999999995', 'type': 'e1Detector'}, 'e2_0-1to0-0_2_0': {'freq': '1', 'friendlyPos': 'x', 'id': 'e2_0-1to0-0_2_0', 'file': 'output/simonnet_e2_0-1to0-0_2_0_output.xml', 'lane': '0/1to0/0_2', 'length': '577.3', 'pos': '0', 'type': 'e2Detector'}}}\n",
      "----------------\n",
      "{'detectors': {'e1_0-1to0-2_0_0': {'freq': '1', 'friendlyPos': 'x', 'id': 'e1_0-1to0-2_0_0', 'file': 'output/simonnet_e1_0-1to0-2_0_0_output.xml', 'lane': '0/1to0/2_0', 'pos': '572.3', 'type': 'e1Detector'}, 'e1_0-1to0-2_0_1': {'freq': '1', 'friendlyPos': 'x', 'id': 'e1_0-1to0-2_0_1', 'file': 'output/simonnet_e1_0-1to0-2_0_1_output.xml', 'lane': '0/1to0/2_0', 'pos': '452.29999999999995', 'type': 'e1Detector'}, 'e2_0-1to0-2_0_0': {'freq': '1', 'friendlyPos': 'x', 'id': 'e2_0-1to0-2_0_0', 'file': 'output/simonnet_e2_0-1to0-2_0_0_output.xml', 'lane': '0/1to0/2_0', 'length': '577.3', 'pos': '0', 'type': 'e2Detector'}}}\n",
      "----------------\n",
      "{'detectors': {'e1_0-1to0-2_1_0': {'freq': '1', 'friendlyPos': 'x', 'id': 'e1_0-1to0-2_1_0', 'file': 'output/simonnet_e1_0-1to0-2_1_0_output.xml', 'lane': '0/1to0/2_1', 'pos': '572.3', 'type': 'e1Detector'}, 'e1_0-1to0-2_1_1': {'freq': '1', 'friendlyPos': 'x', 'id': 'e1_0-1to0-2_1_1', 'file': 'output/simonnet_e1_0-1to0-2_1_1_output.xml', 'lane': '0/1to0/2_1', 'pos': '452.29999999999995', 'type': 'e1Detector'}, 'e2_0-1to0-2_1_0': {'freq': '1', 'friendlyPos': 'x', 'id': 'e2_0-1to0-2_1_0', 'file': 'output/simonnet_e2_0-1to0-2_1_0_output.xml', 'lane': '0/1to0/2_1', 'length': '577.3', 'pos': '0', 'type': 'e2Detector'}}}\n",
      "----------------\n",
      "{'detectors': {'e1_0-1to0-2_2_0': {'freq': '1', 'friendlyPos': 'x', 'id': 'e1_0-1to0-2_2_0', 'file': 'output/simonnet_e1_0-1to0-2_2_0_output.xml', 'lane': '0/1to0/2_2', 'pos': '572.3', 'type': 'e1Detector'}, 'e1_0-1to0-2_2_1': {'freq': '1', 'friendlyPos': 'x', 'id': 'e1_0-1to0-2_2_1', 'file': 'output/simonnet_e1_0-1to0-2_2_1_output.xml', 'lane': '0/1to0/2_2', 'pos': '452.29999999999995', 'type': 'e1Detector'}, 'e2_0-1to0-2_2_0': {'freq': '1', 'friendlyPos': 'x', 'id': 'e2_0-1to0-2_2_0', 'file': 'output/simonnet_e2_0-1to0-2_2_0_output.xml', 'lane': '0/1to0/2_2', 'length': '577.3', 'pos': '0', 'type': 'e2Detector'}}}\n",
      "----------------\n",
      "{'detectors': {'e1_0-1to1-1_0_0': {'freq': '1', 'friendlyPos': 'x', 'id': 'e1_0-1to1-1_0_0', 'file': 'output/simonnet_e1_0-1to1-1_0_0_output.xml', 'lane': '0/1to1/1_0', 'pos': '572.3', 'type': 'e1Detector'}, 'e1_0-1to1-1_0_1': {'freq': '1', 'friendlyPos': 'x', 'id': 'e1_0-1to1-1_0_1', 'file': 'output/simonnet_e1_0-1to1-1_0_1_output.xml', 'lane': '0/1to1/1_0', 'pos': '452.29999999999995', 'type': 'e1Detector'}, 'e2_0-1to1-1_0_0': {'freq': '1', 'friendlyPos': 'x', 'id': 'e2_0-1to1-1_0_0', 'file': 'output/simonnet_e2_0-1to1-1_0_0_output.xml', 'lane': '0/1to1/1_0', 'length': '577.3', 'pos': '0', 'type': 'e2Detector'}}}\n",
      "----------------\n",
      "{'detectors': {'e1_0-1to1-1_1_0': {'freq': '1', 'friendlyPos': 'x', 'id': 'e1_0-1to1-1_1_0', 'file': 'output/simonnet_e1_0-1to1-1_1_0_output.xml', 'lane': '0/1to1/1_1', 'pos': '572.3', 'type': 'e1Detector'}, 'e1_0-1to1-1_1_1': {'freq': '1', 'friendlyPos': 'x', 'id': 'e1_0-1to1-1_1_1', 'file': 'output/simonnet_e1_0-1to1-1_1_1_output.xml', 'lane': '0/1to1/1_1', 'pos': '452.29999999999995', 'type': 'e1Detector'}, 'e2_0-1to1-1_1_0': {'freq': '1', 'friendlyPos': 'x', 'id': 'e2_0-1to1-1_1_0', 'file': 'output/simonnet_e2_0-1to1-1_1_0_output.xml', 'lane': '0/1to1/1_1', 'length': '577.3', 'pos': '0', 'type': 'e2Detector'}}}\n",
      "----------------\n",
      "{'detectors': {'e1_0-1to1-1_2_0': {'freq': '1', 'friendlyPos': 'x', 'id': 'e1_0-1to1-1_2_0', 'file': 'output/simonnet_e1_0-1to1-1_2_0_output.xml', 'lane': '0/1to1/1_2', 'pos': '572.3', 'type': 'e1Detector'}, 'e1_0-1to1-1_2_1': {'freq': '1', 'friendlyPos': 'x', 'id': 'e1_0-1to1-1_2_1', 'file': 'output/simonnet_e1_0-1to1-1_2_1_output.xml', 'lane': '0/1to1/1_2', 'pos': '452.29999999999995', 'type': 'e1Detector'}, 'e2_0-1to1-1_2_0': {'freq': '1', 'friendlyPos': 'x', 'id': 'e2_0-1to1-1_2_0', 'file': 'output/simonnet_e2_0-1to1-1_2_0_output.xml', 'lane': '0/1to1/1_2', 'length': '577.3', 'pos': '0', 'type': 'e2Detector'}}}\n",
      "----------------\n",
      "{}\n",
      "----------------\n",
      "{}\n",
      "----------------\n",
      "{'detectors': {'e1_0-1toleft1_2_0': {'freq': '1', 'friendlyPos': 'x', 'id': 'e1_0-1toleft1_2_0', 'file': 'output/simonnet_e1_0-1toleft1_2_0_output.xml', 'lane': '0/1toleft1_2', 'pos': '583.65', 'type': 'e1Detector'}, 'e1_0-1toleft1_2_1': {'freq': '1', 'friendlyPos': 'x', 'id': 'e1_0-1toleft1_2_1', 'file': 'output/simonnet_e1_0-1toleft1_2_1_output.xml', 'lane': '0/1toleft1_2', 'pos': '463.65', 'type': 'e1Detector'}, 'e2_0-1toleft1_2_0': {'freq': '1', 'friendlyPos': 'x', 'id': 'e2_0-1toleft1_2_0', 'file': 'output/simonnet_e2_0-1toleft1_2_0_output.xml', 'lane': '0/1toleft1_2', 'length': '588.65', 'pos': '0', 'type': 'e2Detector'}}}\n",
      "----------------\n",
      "{'detectors': {'e1_0-2to0-1_0_0': {'freq': '1', 'friendlyPos': 'x', 'id': 'e1_0-2to0-1_0_0', 'file': 'output/simonnet_e1_0-2to0-1_0_0_output.xml', 'lane': '0/2to0/1_0', 'pos': '572.3', 'type': 'e1Detector'}, 'e1_0-2to0-1_0_1': {'freq': '1', 'friendlyPos': 'x', 'id': 'e1_0-2to0-1_0_1', 'file': 'output/simonnet_e1_0-2to0-1_0_1_output.xml', 'lane': '0/2to0/1_0', 'pos': '452.29999999999995', 'type': 'e1Detector'}, 'e2_0-2to0-1_0_0': {'freq': '1', 'friendlyPos': 'x', 'id': 'e2_0-2to0-1_0_0', 'file': 'output/simonnet_e2_0-2to0-1_0_0_output.xml', 'lane': '0/2to0/1_0', 'length': '577.3', 'pos': '0', 'type': 'e2Detector'}}}\n",
      "----------------\n",
      "{'detectors': {'e1_0-2to0-1_1_0': {'freq': '1', 'friendlyPos': 'x', 'id': 'e1_0-2to0-1_1_0', 'file': 'output/simonnet_e1_0-2to0-1_1_0_output.xml', 'lane': '0/2to0/1_1', 'pos': '572.3', 'type': 'e1Detector'}, 'e1_0-2to0-1_1_1': {'freq': '1', 'friendlyPos': 'x', 'id': 'e1_0-2to0-1_1_1', 'file': 'output/simonnet_e1_0-2to0-1_1_1_output.xml', 'lane': '0/2to0/1_1', 'pos': '452.29999999999995', 'type': 'e1Detector'}, 'e2_0-2to0-1_1_0': {'freq': '1', 'friendlyPos': 'x', 'id': 'e2_0-2to0-1_1_0', 'file': 'output/simonnet_e2_0-2to0-1_1_0_output.xml', 'lane': '0/2to0/1_1', 'length': '577.3', 'pos': '0', 'type': 'e2Detector'}}}\n",
      "----------------\n",
      "{'detectors': {'e1_0-2to0-1_2_0': {'freq': '1', 'friendlyPos': 'x', 'id': 'e1_0-2to0-1_2_0', 'file': 'output/simonnet_e1_0-2to0-1_2_0_output.xml', 'lane': '0/2to0/1_2', 'pos': '572.3', 'type': 'e1Detector'}, 'e1_0-2to0-1_2_1': {'freq': '1', 'friendlyPos': 'x', 'id': 'e1_0-2to0-1_2_1', 'file': 'output/simonnet_e1_0-2to0-1_2_1_output.xml', 'lane': '0/2to0/1_2', 'pos': '452.29999999999995', 'type': 'e1Detector'}, 'e2_0-2to0-1_2_0': {'freq': '1', 'friendlyPos': 'x', 'id': 'e2_0-2to0-1_2_0', 'file': 'output/simonnet_e2_0-2to0-1_2_0_output.xml', 'lane': '0/2to0/1_2', 'length': '577.3', 'pos': '0', 'type': 'e2Detector'}}}\n",
      "----------------\n",
      "{'detectors': {'e1_0-2to1-2_0_0': {'freq': '1', 'friendlyPos': 'x', 'id': 'e1_0-2to1-2_0_0', 'file': 'output/simonnet_e1_0-2to1-2_0_0_output.xml', 'lane': '0/2to1/2_0', 'pos': '572.3', 'type': 'e1Detector'}, 'e1_0-2to1-2_0_1': {'freq': '1', 'friendlyPos': 'x', 'id': 'e1_0-2to1-2_0_1', 'file': 'output/simonnet_e1_0-2to1-2_0_1_output.xml', 'lane': '0/2to1/2_0', 'pos': '452.29999999999995', 'type': 'e1Detector'}, 'e2_0-2to1-2_0_0': {'freq': '1', 'friendlyPos': 'x', 'id': 'e2_0-2to1-2_0_0', 'file': 'output/simonnet_e2_0-2to1-2_0_0_output.xml', 'lane': '0/2to1/2_0', 'length': '577.3', 'pos': '0', 'type': 'e2Detector'}}}\n",
      "----------------\n",
      "{'detectors': {'e1_0-2to1-2_1_0': {'freq': '1', 'friendlyPos': 'x', 'id': 'e1_0-2to1-2_1_0', 'file': 'output/simonnet_e1_0-2to1-2_1_0_output.xml', 'lane': '0/2to1/2_1', 'pos': '572.3', 'type': 'e1Detector'}, 'e1_0-2to1-2_1_1': {'freq': '1', 'friendlyPos': 'x', 'id': 'e1_0-2to1-2_1_1', 'file': 'output/simonnet_e1_0-2to1-2_1_1_output.xml', 'lane': '0/2to1/2_1', 'pos': '452.29999999999995', 'type': 'e1Detector'}, 'e2_0-2to1-2_1_0': {'freq': '1', 'friendlyPos': 'x', 'id': 'e2_0-2to1-2_1_0', 'file': 'output/simonnet_e2_0-2to1-2_1_0_output.xml', 'lane': '0/2to1/2_1', 'length': '577.3', 'pos': '0', 'type': 'e2Detector'}}}\n",
      "----------------\n",
      "{'detectors': {'e1_0-2to1-2_2_0': {'freq': '1', 'friendlyPos': 'x', 'id': 'e1_0-2to1-2_2_0', 'file': 'output/simonnet_e1_0-2to1-2_2_0_output.xml', 'lane': '0/2to1/2_2', 'pos': '572.3', 'type': 'e1Detector'}, 'e1_0-2to1-2_2_1': {'freq': '1', 'friendlyPos': 'x', 'id': 'e1_0-2to1-2_2_1', 'file': 'output/simonnet_e1_0-2to1-2_2_1_output.xml', 'lane': '0/2to1/2_2', 'pos': '452.29999999999995', 'type': 'e1Detector'}, 'e2_0-2to1-2_2_0': {'freq': '1', 'friendlyPos': 'x', 'id': 'e2_0-2to1-2_2_0', 'file': 'output/simonnet_e2_0-2to1-2_2_0_output.xml', 'lane': '0/2to1/2_2', 'length': '577.3', 'pos': '0', 'type': 'e2Detector'}}}\n",
      "----------------\n",
      "{}\n",
      "----------------\n",
      "{}\n",
      "----------------\n",
      "{'detectors': {'e1_0-2toleft2_2_0': {'freq': '1', 'friendlyPos': 'x', 'id': 'e1_0-2toleft2_2_0', 'file': 'output/simonnet_e1_0-2toleft2_2_0_output.xml', 'lane': '0/2toleft2_2', 'pos': '583.65', 'type': 'e1Detector'}, 'e1_0-2toleft2_2_1': {'freq': '1', 'friendlyPos': 'x', 'id': 'e1_0-2toleft2_2_1', 'file': 'output/simonnet_e1_0-2toleft2_2_1_output.xml', 'lane': '0/2toleft2_2', 'pos': '463.65', 'type': 'e1Detector'}, 'e2_0-2toleft2_2_0': {'freq': '1', 'friendlyPos': 'x', 'id': 'e2_0-2toleft2_2_0', 'file': 'output/simonnet_e2_0-2toleft2_2_0_output.xml', 'lane': '0/2toleft2_2', 'length': '588.65', 'pos': '0', 'type': 'e2Detector'}}}\n",
      "----------------\n",
      "{}\n",
      "----------------\n",
      "{}\n",
      "----------------\n",
      "{'detectors': {'e1_0-2totop0_2_0': {'freq': '1', 'friendlyPos': 'x', 'id': 'e1_0-2totop0_2_0', 'file': 'output/simonnet_e1_0-2totop0_2_0_output.xml', 'lane': '0/2totop0_2', 'pos': '583.65', 'type': 'e1Detector'}, 'e1_0-2totop0_2_1': {'freq': '1', 'friendlyPos': 'x', 'id': 'e1_0-2totop0_2_1', 'file': 'output/simonnet_e1_0-2totop0_2_1_output.xml', 'lane': '0/2totop0_2', 'pos': '463.65', 'type': 'e1Detector'}, 'e2_0-2totop0_2_0': {'freq': '1', 'friendlyPos': 'x', 'id': 'e2_0-2totop0_2_0', 'file': 'output/simonnet_e2_0-2totop0_2_0_output.xml', 'lane': '0/2totop0_2', 'length': '588.65', 'pos': '0', 'type': 'e2Detector'}}}\n",
      "----------------\n",
      "{'detectors': {'e1_1-0to0-0_0_0': {'freq': '1', 'friendlyPos': 'x', 'id': 'e1_1-0to0-0_0_0', 'file': 'output/simonnet_e1_1-0to0-0_0_0_output.xml', 'lane': '1/0to0/0_0', 'pos': '572.3', 'type': 'e1Detector'}, 'e1_1-0to0-0_0_1': {'freq': '1', 'friendlyPos': 'x', 'id': 'e1_1-0to0-0_0_1', 'file': 'output/simonnet_e1_1-0to0-0_0_1_output.xml', 'lane': '1/0to0/0_0', 'pos': '452.29999999999995', 'type': 'e1Detector'}, 'e2_1-0to0-0_0_0': {'freq': '1', 'friendlyPos': 'x', 'id': 'e2_1-0to0-0_0_0', 'file': 'output/simonnet_e2_1-0to0-0_0_0_output.xml', 'lane': '1/0to0/0_0', 'length': '577.3', 'pos': '0', 'type': 'e2Detector'}}}\n",
      "----------------\n",
      "{'detectors': {'e1_1-0to0-0_1_0': {'freq': '1', 'friendlyPos': 'x', 'id': 'e1_1-0to0-0_1_0', 'file': 'output/simonnet_e1_1-0to0-0_1_0_output.xml', 'lane': '1/0to0/0_1', 'pos': '572.3', 'type': 'e1Detector'}, 'e1_1-0to0-0_1_1': {'freq': '1', 'friendlyPos': 'x', 'id': 'e1_1-0to0-0_1_1', 'file': 'output/simonnet_e1_1-0to0-0_1_1_output.xml', 'lane': '1/0to0/0_1', 'pos': '452.29999999999995', 'type': 'e1Detector'}, 'e2_1-0to0-0_1_0': {'freq': '1', 'friendlyPos': 'x', 'id': 'e2_1-0to0-0_1_0', 'file': 'output/simonnet_e2_1-0to0-0_1_0_output.xml', 'lane': '1/0to0/0_1', 'length': '577.3', 'pos': '0', 'type': 'e2Detector'}}}\n",
      "----------------\n",
      "{'detectors': {'e1_1-0to0-0_2_0': {'freq': '1', 'friendlyPos': 'x', 'id': 'e1_1-0to0-0_2_0', 'file': 'output/simonnet_e1_1-0to0-0_2_0_output.xml', 'lane': '1/0to0/0_2', 'pos': '572.3', 'type': 'e1Detector'}, 'e1_1-0to0-0_2_1': {'freq': '1', 'friendlyPos': 'x', 'id': 'e1_1-0to0-0_2_1', 'file': 'output/simonnet_e1_1-0to0-0_2_1_output.xml', 'lane': '1/0to0/0_2', 'pos': '452.29999999999995', 'type': 'e1Detector'}, 'e2_1-0to0-0_2_0': {'freq': '1', 'friendlyPos': 'x', 'id': 'e2_1-0to0-0_2_0', 'file': 'output/simonnet_e2_1-0to0-0_2_0_output.xml', 'lane': '1/0to0/0_2', 'length': '577.3', 'pos': '0', 'type': 'e2Detector'}}}\n",
      "----------------\n",
      "{'detectors': {'e1_1-0to1-1_0_0': {'freq': '1', 'friendlyPos': 'x', 'id': 'e1_1-0to1-1_0_0', 'file': 'output/simonnet_e1_1-0to1-1_0_0_output.xml', 'lane': '1/0to1/1_0', 'pos': '572.3', 'type': 'e1Detector'}, 'e1_1-0to1-1_0_1': {'freq': '1', 'friendlyPos': 'x', 'id': 'e1_1-0to1-1_0_1', 'file': 'output/simonnet_e1_1-0to1-1_0_1_output.xml', 'lane': '1/0to1/1_0', 'pos': '452.29999999999995', 'type': 'e1Detector'}, 'e2_1-0to1-1_0_0': {'freq': '1', 'friendlyPos': 'x', 'id': 'e2_1-0to1-1_0_0', 'file': 'output/simonnet_e2_1-0to1-1_0_0_output.xml', 'lane': '1/0to1/1_0', 'length': '577.3', 'pos': '0', 'type': 'e2Detector'}}}\n",
      "----------------\n",
      "{'detectors': {'e1_1-0to1-1_1_0': {'freq': '1', 'friendlyPos': 'x', 'id': 'e1_1-0to1-1_1_0', 'file': 'output/simonnet_e1_1-0to1-1_1_0_output.xml', 'lane': '1/0to1/1_1', 'pos': '572.3', 'type': 'e1Detector'}, 'e1_1-0to1-1_1_1': {'freq': '1', 'friendlyPos': 'x', 'id': 'e1_1-0to1-1_1_1', 'file': 'output/simonnet_e1_1-0to1-1_1_1_output.xml', 'lane': '1/0to1/1_1', 'pos': '452.29999999999995', 'type': 'e1Detector'}, 'e2_1-0to1-1_1_0': {'freq': '1', 'friendlyPos': 'x', 'id': 'e2_1-0to1-1_1_0', 'file': 'output/simonnet_e2_1-0to1-1_1_0_output.xml', 'lane': '1/0to1/1_1', 'length': '577.3', 'pos': '0', 'type': 'e2Detector'}}}\n",
      "----------------\n",
      "{'detectors': {'e1_1-0to1-1_2_0': {'freq': '1', 'friendlyPos': 'x', 'id': 'e1_1-0to1-1_2_0', 'file': 'output/simonnet_e1_1-0to1-1_2_0_output.xml', 'lane': '1/0to1/1_2', 'pos': '572.3', 'type': 'e1Detector'}, 'e1_1-0to1-1_2_1': {'freq': '1', 'friendlyPos': 'x', 'id': 'e1_1-0to1-1_2_1', 'file': 'output/simonnet_e1_1-0to1-1_2_1_output.xml', 'lane': '1/0to1/1_2', 'pos': '452.29999999999995', 'type': 'e1Detector'}, 'e2_1-0to1-1_2_0': {'freq': '1', 'friendlyPos': 'x', 'id': 'e2_1-0to1-1_2_0', 'file': 'output/simonnet_e2_1-0to1-1_2_0_output.xml', 'lane': '1/0to1/1_2', 'length': '577.3', 'pos': '0', 'type': 'e2Detector'}}}\n",
      "----------------\n",
      "{'detectors': {'e1_1-0to2-0_0_0': {'freq': '1', 'friendlyPos': 'x', 'id': 'e1_1-0to2-0_0_0', 'file': 'output/simonnet_e1_1-0to2-0_0_0_output.xml', 'lane': '1/0to2/0_0', 'pos': '572.3', 'type': 'e1Detector'}, 'e1_1-0to2-0_0_1': {'freq': '1', 'friendlyPos': 'x', 'id': 'e1_1-0to2-0_0_1', 'file': 'output/simonnet_e1_1-0to2-0_0_1_output.xml', 'lane': '1/0to2/0_0', 'pos': '452.29999999999995', 'type': 'e1Detector'}, 'e2_1-0to2-0_0_0': {'freq': '1', 'friendlyPos': 'x', 'id': 'e2_1-0to2-0_0_0', 'file': 'output/simonnet_e2_1-0to2-0_0_0_output.xml', 'lane': '1/0to2/0_0', 'length': '577.3', 'pos': '0', 'type': 'e2Detector'}}}\n",
      "----------------\n",
      "{'detectors': {'e1_1-0to2-0_1_0': {'freq': '1', 'friendlyPos': 'x', 'id': 'e1_1-0to2-0_1_0', 'file': 'output/simonnet_e1_1-0to2-0_1_0_output.xml', 'lane': '1/0to2/0_1', 'pos': '572.3', 'type': 'e1Detector'}, 'e1_1-0to2-0_1_1': {'freq': '1', 'friendlyPos': 'x', 'id': 'e1_1-0to2-0_1_1', 'file': 'output/simonnet_e1_1-0to2-0_1_1_output.xml', 'lane': '1/0to2/0_1', 'pos': '452.29999999999995', 'type': 'e1Detector'}, 'e2_1-0to2-0_1_0': {'freq': '1', 'friendlyPos': 'x', 'id': 'e2_1-0to2-0_1_0', 'file': 'output/simonnet_e2_1-0to2-0_1_0_output.xml', 'lane': '1/0to2/0_1', 'length': '577.3', 'pos': '0', 'type': 'e2Detector'}}}\n",
      "----------------\n",
      "{'detectors': {'e1_1-0to2-0_2_0': {'freq': '1', 'friendlyPos': 'x', 'id': 'e1_1-0to2-0_2_0', 'file': 'output/simonnet_e1_1-0to2-0_2_0_output.xml', 'lane': '1/0to2/0_2', 'pos': '572.3', 'type': 'e1Detector'}, 'e1_1-0to2-0_2_1': {'freq': '1', 'friendlyPos': 'x', 'id': 'e1_1-0to2-0_2_1', 'file': 'output/simonnet_e1_1-0to2-0_2_1_output.xml', 'lane': '1/0to2/0_2', 'pos': '452.29999999999995', 'type': 'e1Detector'}, 'e2_1-0to2-0_2_0': {'freq': '1', 'friendlyPos': 'x', 'id': 'e2_1-0to2-0_2_0', 'file': 'output/simonnet_e2_1-0to2-0_2_0_output.xml', 'lane': '1/0to2/0_2', 'length': '577.3', 'pos': '0', 'type': 'e2Detector'}}}\n",
      "----------------\n",
      "{}\n",
      "----------------\n",
      "{}\n",
      "----------------\n",
      "{'detectors': {'e1_1-0tobottom1_2_0': {'freq': '1', 'friendlyPos': 'x', 'id': 'e1_1-0tobottom1_2_0', 'file': 'output/simonnet_e1_1-0tobottom1_2_0_output.xml', 'lane': '1/0tobottom1_2', 'pos': '583.65', 'type': 'e1Detector'}, 'e1_1-0tobottom1_2_1': {'freq': '1', 'friendlyPos': 'x', 'id': 'e1_1-0tobottom1_2_1', 'file': 'output/simonnet_e1_1-0tobottom1_2_1_output.xml', 'lane': '1/0tobottom1_2', 'pos': '463.65', 'type': 'e1Detector'}, 'e2_1-0tobottom1_2_0': {'freq': '1', 'friendlyPos': 'x', 'id': 'e2_1-0tobottom1_2_0', 'file': 'output/simonnet_e2_1-0tobottom1_2_0_output.xml', 'lane': '1/0tobottom1_2', 'length': '588.65', 'pos': '0', 'type': 'e2Detector'}}}\n",
      "----------------\n",
      "{'detectors': {'e1_1-1to0-1_0_0': {'freq': '1', 'friendlyPos': 'x', 'id': 'e1_1-1to0-1_0_0', 'file': 'output/simonnet_e1_1-1to0-1_0_0_output.xml', 'lane': '1/1to0/1_0', 'pos': '572.3', 'type': 'e1Detector'}, 'e1_1-1to0-1_0_1': {'freq': '1', 'friendlyPos': 'x', 'id': 'e1_1-1to0-1_0_1', 'file': 'output/simonnet_e1_1-1to0-1_0_1_output.xml', 'lane': '1/1to0/1_0', 'pos': '452.29999999999995', 'type': 'e1Detector'}, 'e2_1-1to0-1_0_0': {'freq': '1', 'friendlyPos': 'x', 'id': 'e2_1-1to0-1_0_0', 'file': 'output/simonnet_e2_1-1to0-1_0_0_output.xml', 'lane': '1/1to0/1_0', 'length': '577.3', 'pos': '0', 'type': 'e2Detector'}}}\n",
      "----------------\n",
      "{'detectors': {'e1_1-1to0-1_1_0': {'freq': '1', 'friendlyPos': 'x', 'id': 'e1_1-1to0-1_1_0', 'file': 'output/simonnet_e1_1-1to0-1_1_0_output.xml', 'lane': '1/1to0/1_1', 'pos': '572.3', 'type': 'e1Detector'}, 'e1_1-1to0-1_1_1': {'freq': '1', 'friendlyPos': 'x', 'id': 'e1_1-1to0-1_1_1', 'file': 'output/simonnet_e1_1-1to0-1_1_1_output.xml', 'lane': '1/1to0/1_1', 'pos': '452.29999999999995', 'type': 'e1Detector'}, 'e2_1-1to0-1_1_0': {'freq': '1', 'friendlyPos': 'x', 'id': 'e2_1-1to0-1_1_0', 'file': 'output/simonnet_e2_1-1to0-1_1_0_output.xml', 'lane': '1/1to0/1_1', 'length': '577.3', 'pos': '0', 'type': 'e2Detector'}}}\n",
      "----------------\n",
      "{'detectors': {'e1_1-1to0-1_2_0': {'freq': '1', 'friendlyPos': 'x', 'id': 'e1_1-1to0-1_2_0', 'file': 'output/simonnet_e1_1-1to0-1_2_0_output.xml', 'lane': '1/1to0/1_2', 'pos': '572.3', 'type': 'e1Detector'}, 'e1_1-1to0-1_2_1': {'freq': '1', 'friendlyPos': 'x', 'id': 'e1_1-1to0-1_2_1', 'file': 'output/simonnet_e1_1-1to0-1_2_1_output.xml', 'lane': '1/1to0/1_2', 'pos': '452.29999999999995', 'type': 'e1Detector'}, 'e2_1-1to0-1_2_0': {'freq': '1', 'friendlyPos': 'x', 'id': 'e2_1-1to0-1_2_0', 'file': 'output/simonnet_e2_1-1to0-1_2_0_output.xml', 'lane': '1/1to0/1_2', 'length': '577.3', 'pos': '0', 'type': 'e2Detector'}}}\n",
      "----------------\n",
      "{'detectors': {'e1_1-1to1-0_0_0': {'freq': '1', 'friendlyPos': 'x', 'id': 'e1_1-1to1-0_0_0', 'file': 'output/simonnet_e1_1-1to1-0_0_0_output.xml', 'lane': '1/1to1/0_0', 'pos': '572.3', 'type': 'e1Detector'}, 'e1_1-1to1-0_0_1': {'freq': '1', 'friendlyPos': 'x', 'id': 'e1_1-1to1-0_0_1', 'file': 'output/simonnet_e1_1-1to1-0_0_1_output.xml', 'lane': '1/1to1/0_0', 'pos': '452.29999999999995', 'type': 'e1Detector'}, 'e2_1-1to1-0_0_0': {'freq': '1', 'friendlyPos': 'x', 'id': 'e2_1-1to1-0_0_0', 'file': 'output/simonnet_e2_1-1to1-0_0_0_output.xml', 'lane': '1/1to1/0_0', 'length': '577.3', 'pos': '0', 'type': 'e2Detector'}}}\n",
      "----------------\n",
      "{'detectors': {'e1_1-1to1-0_1_0': {'freq': '1', 'friendlyPos': 'x', 'id': 'e1_1-1to1-0_1_0', 'file': 'output/simonnet_e1_1-1to1-0_1_0_output.xml', 'lane': '1/1to1/0_1', 'pos': '572.3', 'type': 'e1Detector'}, 'e1_1-1to1-0_1_1': {'freq': '1', 'friendlyPos': 'x', 'id': 'e1_1-1to1-0_1_1', 'file': 'output/simonnet_e1_1-1to1-0_1_1_output.xml', 'lane': '1/1to1/0_1', 'pos': '452.29999999999995', 'type': 'e1Detector'}, 'e2_1-1to1-0_1_0': {'freq': '1', 'friendlyPos': 'x', 'id': 'e2_1-1to1-0_1_0', 'file': 'output/simonnet_e2_1-1to1-0_1_0_output.xml', 'lane': '1/1to1/0_1', 'length': '577.3', 'pos': '0', 'type': 'e2Detector'}}}\n",
      "----------------\n",
      "{'detectors': {'e1_1-1to1-0_2_0': {'freq': '1', 'friendlyPos': 'x', 'id': 'e1_1-1to1-0_2_0', 'file': 'output/simonnet_e1_1-1to1-0_2_0_output.xml', 'lane': '1/1to1/0_2', 'pos': '572.3', 'type': 'e1Detector'}, 'e1_1-1to1-0_2_1': {'freq': '1', 'friendlyPos': 'x', 'id': 'e1_1-1to1-0_2_1', 'file': 'output/simonnet_e1_1-1to1-0_2_1_output.xml', 'lane': '1/1to1/0_2', 'pos': '452.29999999999995', 'type': 'e1Detector'}, 'e2_1-1to1-0_2_0': {'freq': '1', 'friendlyPos': 'x', 'id': 'e2_1-1to1-0_2_0', 'file': 'output/simonnet_e2_1-1to1-0_2_0_output.xml', 'lane': '1/1to1/0_2', 'length': '577.3', 'pos': '0', 'type': 'e2Detector'}}}\n",
      "----------------\n",
      "{'detectors': {'e1_1-1to1-2_0_0': {'freq': '1', 'friendlyPos': 'x', 'id': 'e1_1-1to1-2_0_0', 'file': 'output/simonnet_e1_1-1to1-2_0_0_output.xml', 'lane': '1/1to1/2_0', 'pos': '572.3', 'type': 'e1Detector'}, 'e1_1-1to1-2_0_1': {'freq': '1', 'friendlyPos': 'x', 'id': 'e1_1-1to1-2_0_1', 'file': 'output/simonnet_e1_1-1to1-2_0_1_output.xml', 'lane': '1/1to1/2_0', 'pos': '452.29999999999995', 'type': 'e1Detector'}, 'e2_1-1to1-2_0_0': {'freq': '1', 'friendlyPos': 'x', 'id': 'e2_1-1to1-2_0_0', 'file': 'output/simonnet_e2_1-1to1-2_0_0_output.xml', 'lane': '1/1to1/2_0', 'length': '577.3', 'pos': '0', 'type': 'e2Detector'}}}\n",
      "----------------\n",
      "{'detectors': {'e1_1-1to1-2_1_0': {'freq': '1', 'friendlyPos': 'x', 'id': 'e1_1-1to1-2_1_0', 'file': 'output/simonnet_e1_1-1to1-2_1_0_output.xml', 'lane': '1/1to1/2_1', 'pos': '572.3', 'type': 'e1Detector'}, 'e1_1-1to1-2_1_1': {'freq': '1', 'friendlyPos': 'x', 'id': 'e1_1-1to1-2_1_1', 'file': 'output/simonnet_e1_1-1to1-2_1_1_output.xml', 'lane': '1/1to1/2_1', 'pos': '452.29999999999995', 'type': 'e1Detector'}, 'e2_1-1to1-2_1_0': {'freq': '1', 'friendlyPos': 'x', 'id': 'e2_1-1to1-2_1_0', 'file': 'output/simonnet_e2_1-1to1-2_1_0_output.xml', 'lane': '1/1to1/2_1', 'length': '577.3', 'pos': '0', 'type': 'e2Detector'}}}\n",
      "----------------\n",
      "{'detectors': {'e1_1-1to1-2_2_0': {'freq': '1', 'friendlyPos': 'x', 'id': 'e1_1-1to1-2_2_0', 'file': 'output/simonnet_e1_1-1to1-2_2_0_output.xml', 'lane': '1/1to1/2_2', 'pos': '572.3', 'type': 'e1Detector'}, 'e1_1-1to1-2_2_1': {'freq': '1', 'friendlyPos': 'x', 'id': 'e1_1-1to1-2_2_1', 'file': 'output/simonnet_e1_1-1to1-2_2_1_output.xml', 'lane': '1/1to1/2_2', 'pos': '452.29999999999995', 'type': 'e1Detector'}, 'e2_1-1to1-2_2_0': {'freq': '1', 'friendlyPos': 'x', 'id': 'e2_1-1to1-2_2_0', 'file': 'output/simonnet_e2_1-1to1-2_2_0_output.xml', 'lane': '1/1to1/2_2', 'length': '577.3', 'pos': '0', 'type': 'e2Detector'}}}\n",
      "----------------\n",
      "{'detectors': {'e1_1-1to2-1_0_0': {'freq': '1', 'friendlyPos': 'x', 'id': 'e1_1-1to2-1_0_0', 'file': 'output/simonnet_e1_1-1to2-1_0_0_output.xml', 'lane': '1/1to2/1_0', 'pos': '572.3', 'type': 'e1Detector'}, 'e1_1-1to2-1_0_1': {'freq': '1', 'friendlyPos': 'x', 'id': 'e1_1-1to2-1_0_1', 'file': 'output/simonnet_e1_1-1to2-1_0_1_output.xml', 'lane': '1/1to2/1_0', 'pos': '452.29999999999995', 'type': 'e1Detector'}, 'e2_1-1to2-1_0_0': {'freq': '1', 'friendlyPos': 'x', 'id': 'e2_1-1to2-1_0_0', 'file': 'output/simonnet_e2_1-1to2-1_0_0_output.xml', 'lane': '1/1to2/1_0', 'length': '577.3', 'pos': '0', 'type': 'e2Detector'}}}\n",
      "----------------\n",
      "{'detectors': {'e1_1-1to2-1_1_0': {'freq': '1', 'friendlyPos': 'x', 'id': 'e1_1-1to2-1_1_0', 'file': 'output/simonnet_e1_1-1to2-1_1_0_output.xml', 'lane': '1/1to2/1_1', 'pos': '572.3', 'type': 'e1Detector'}, 'e1_1-1to2-1_1_1': {'freq': '1', 'friendlyPos': 'x', 'id': 'e1_1-1to2-1_1_1', 'file': 'output/simonnet_e1_1-1to2-1_1_1_output.xml', 'lane': '1/1to2/1_1', 'pos': '452.29999999999995', 'type': 'e1Detector'}, 'e2_1-1to2-1_1_0': {'freq': '1', 'friendlyPos': 'x', 'id': 'e2_1-1to2-1_1_0', 'file': 'output/simonnet_e2_1-1to2-1_1_0_output.xml', 'lane': '1/1to2/1_1', 'length': '577.3', 'pos': '0', 'type': 'e2Detector'}}}\n",
      "----------------\n",
      "{'detectors': {'e1_1-1to2-1_2_0': {'freq': '1', 'friendlyPos': 'x', 'id': 'e1_1-1to2-1_2_0', 'file': 'output/simonnet_e1_1-1to2-1_2_0_output.xml', 'lane': '1/1to2/1_2', 'pos': '572.3', 'type': 'e1Detector'}, 'e1_1-1to2-1_2_1': {'freq': '1', 'friendlyPos': 'x', 'id': 'e1_1-1to2-1_2_1', 'file': 'output/simonnet_e1_1-1to2-1_2_1_output.xml', 'lane': '1/1to2/1_2', 'pos': '452.29999999999995', 'type': 'e1Detector'}, 'e2_1-1to2-1_2_0': {'freq': '1', 'friendlyPos': 'x', 'id': 'e2_1-1to2-1_2_0', 'file': 'output/simonnet_e2_1-1to2-1_2_0_output.xml', 'lane': '1/1to2/1_2', 'length': '577.3', 'pos': '0', 'type': 'e2Detector'}}}\n",
      "----------------\n",
      "{'detectors': {'e1_1-2to0-2_0_0': {'freq': '1', 'friendlyPos': 'x', 'id': 'e1_1-2to0-2_0_0', 'file': 'output/simonnet_e1_1-2to0-2_0_0_output.xml', 'lane': '1/2to0/2_0', 'pos': '572.3', 'type': 'e1Detector'}, 'e1_1-2to0-2_0_1': {'freq': '1', 'friendlyPos': 'x', 'id': 'e1_1-2to0-2_0_1', 'file': 'output/simonnet_e1_1-2to0-2_0_1_output.xml', 'lane': '1/2to0/2_0', 'pos': '452.29999999999995', 'type': 'e1Detector'}, 'e2_1-2to0-2_0_0': {'freq': '1', 'friendlyPos': 'x', 'id': 'e2_1-2to0-2_0_0', 'file': 'output/simonnet_e2_1-2to0-2_0_0_output.xml', 'lane': '1/2to0/2_0', 'length': '577.3', 'pos': '0', 'type': 'e2Detector'}}}\n",
      "----------------\n",
      "{'detectors': {'e1_1-2to0-2_1_0': {'freq': '1', 'friendlyPos': 'x', 'id': 'e1_1-2to0-2_1_0', 'file': 'output/simonnet_e1_1-2to0-2_1_0_output.xml', 'lane': '1/2to0/2_1', 'pos': '572.3', 'type': 'e1Detector'}, 'e1_1-2to0-2_1_1': {'freq': '1', 'friendlyPos': 'x', 'id': 'e1_1-2to0-2_1_1', 'file': 'output/simonnet_e1_1-2to0-2_1_1_output.xml', 'lane': '1/2to0/2_1', 'pos': '452.29999999999995', 'type': 'e1Detector'}, 'e2_1-2to0-2_1_0': {'freq': '1', 'friendlyPos': 'x', 'id': 'e2_1-2to0-2_1_0', 'file': 'output/simonnet_e2_1-2to0-2_1_0_output.xml', 'lane': '1/2to0/2_1', 'length': '577.3', 'pos': '0', 'type': 'e2Detector'}}}\n",
      "----------------\n",
      "{'detectors': {'e1_1-2to0-2_2_0': {'freq': '1', 'friendlyPos': 'x', 'id': 'e1_1-2to0-2_2_0', 'file': 'output/simonnet_e1_1-2to0-2_2_0_output.xml', 'lane': '1/2to0/2_2', 'pos': '572.3', 'type': 'e1Detector'}, 'e1_1-2to0-2_2_1': {'freq': '1', 'friendlyPos': 'x', 'id': 'e1_1-2to0-2_2_1', 'file': 'output/simonnet_e1_1-2to0-2_2_1_output.xml', 'lane': '1/2to0/2_2', 'pos': '452.29999999999995', 'type': 'e1Detector'}, 'e2_1-2to0-2_2_0': {'freq': '1', 'friendlyPos': 'x', 'id': 'e2_1-2to0-2_2_0', 'file': 'output/simonnet_e2_1-2to0-2_2_0_output.xml', 'lane': '1/2to0/2_2', 'length': '577.3', 'pos': '0', 'type': 'e2Detector'}}}\n",
      "----------------\n",
      "{'detectors': {'e1_1-2to1-1_0_0': {'freq': '1', 'friendlyPos': 'x', 'id': 'e1_1-2to1-1_0_0', 'file': 'output/simonnet_e1_1-2to1-1_0_0_output.xml', 'lane': '1/2to1/1_0', 'pos': '572.3', 'type': 'e1Detector'}, 'e1_1-2to1-1_0_1': {'freq': '1', 'friendlyPos': 'x', 'id': 'e1_1-2to1-1_0_1', 'file': 'output/simonnet_e1_1-2to1-1_0_1_output.xml', 'lane': '1/2to1/1_0', 'pos': '452.29999999999995', 'type': 'e1Detector'}, 'e2_1-2to1-1_0_0': {'freq': '1', 'friendlyPos': 'x', 'id': 'e2_1-2to1-1_0_0', 'file': 'output/simonnet_e2_1-2to1-1_0_0_output.xml', 'lane': '1/2to1/1_0', 'length': '577.3', 'pos': '0', 'type': 'e2Detector'}}}\n",
      "----------------\n",
      "{'detectors': {'e1_1-2to1-1_1_0': {'freq': '1', 'friendlyPos': 'x', 'id': 'e1_1-2to1-1_1_0', 'file': 'output/simonnet_e1_1-2to1-1_1_0_output.xml', 'lane': '1/2to1/1_1', 'pos': '572.3', 'type': 'e1Detector'}, 'e1_1-2to1-1_1_1': {'freq': '1', 'friendlyPos': 'x', 'id': 'e1_1-2to1-1_1_1', 'file': 'output/simonnet_e1_1-2to1-1_1_1_output.xml', 'lane': '1/2to1/1_1', 'pos': '452.29999999999995', 'type': 'e1Detector'}, 'e2_1-2to1-1_1_0': {'freq': '1', 'friendlyPos': 'x', 'id': 'e2_1-2to1-1_1_0', 'file': 'output/simonnet_e2_1-2to1-1_1_0_output.xml', 'lane': '1/2to1/1_1', 'length': '577.3', 'pos': '0', 'type': 'e2Detector'}}}\n",
      "----------------\n",
      "{'detectors': {'e1_1-2to1-1_2_0': {'freq': '1', 'friendlyPos': 'x', 'id': 'e1_1-2to1-1_2_0', 'file': 'output/simonnet_e1_1-2to1-1_2_0_output.xml', 'lane': '1/2to1/1_2', 'pos': '572.3', 'type': 'e1Detector'}, 'e1_1-2to1-1_2_1': {'freq': '1', 'friendlyPos': 'x', 'id': 'e1_1-2to1-1_2_1', 'file': 'output/simonnet_e1_1-2to1-1_2_1_output.xml', 'lane': '1/2to1/1_2', 'pos': '452.29999999999995', 'type': 'e1Detector'}, 'e2_1-2to1-1_2_0': {'freq': '1', 'friendlyPos': 'x', 'id': 'e2_1-2to1-1_2_0', 'file': 'output/simonnet_e2_1-2to1-1_2_0_output.xml', 'lane': '1/2to1/1_2', 'length': '577.3', 'pos': '0', 'type': 'e2Detector'}}}\n",
      "----------------\n",
      "{'detectors': {'e1_1-2to2-2_0_0': {'freq': '1', 'friendlyPos': 'x', 'id': 'e1_1-2to2-2_0_0', 'file': 'output/simonnet_e1_1-2to2-2_0_0_output.xml', 'lane': '1/2to2/2_0', 'pos': '572.3', 'type': 'e1Detector'}, 'e1_1-2to2-2_0_1': {'freq': '1', 'friendlyPos': 'x', 'id': 'e1_1-2to2-2_0_1', 'file': 'output/simonnet_e1_1-2to2-2_0_1_output.xml', 'lane': '1/2to2/2_0', 'pos': '452.29999999999995', 'type': 'e1Detector'}, 'e2_1-2to2-2_0_0': {'freq': '1', 'friendlyPos': 'x', 'id': 'e2_1-2to2-2_0_0', 'file': 'output/simonnet_e2_1-2to2-2_0_0_output.xml', 'lane': '1/2to2/2_0', 'length': '577.3', 'pos': '0', 'type': 'e2Detector'}}}\n",
      "----------------\n",
      "{'detectors': {'e1_1-2to2-2_1_0': {'freq': '1', 'friendlyPos': 'x', 'id': 'e1_1-2to2-2_1_0', 'file': 'output/simonnet_e1_1-2to2-2_1_0_output.xml', 'lane': '1/2to2/2_1', 'pos': '572.3', 'type': 'e1Detector'}, 'e1_1-2to2-2_1_1': {'freq': '1', 'friendlyPos': 'x', 'id': 'e1_1-2to2-2_1_1', 'file': 'output/simonnet_e1_1-2to2-2_1_1_output.xml', 'lane': '1/2to2/2_1', 'pos': '452.29999999999995', 'type': 'e1Detector'}, 'e2_1-2to2-2_1_0': {'freq': '1', 'friendlyPos': 'x', 'id': 'e2_1-2to2-2_1_0', 'file': 'output/simonnet_e2_1-2to2-2_1_0_output.xml', 'lane': '1/2to2/2_1', 'length': '577.3', 'pos': '0', 'type': 'e2Detector'}}}\n",
      "----------------\n",
      "{'detectors': {'e1_1-2to2-2_2_0': {'freq': '1', 'friendlyPos': 'x', 'id': 'e1_1-2to2-2_2_0', 'file': 'output/simonnet_e1_1-2to2-2_2_0_output.xml', 'lane': '1/2to2/2_2', 'pos': '572.3', 'type': 'e1Detector'}, 'e1_1-2to2-2_2_1': {'freq': '1', 'friendlyPos': 'x', 'id': 'e1_1-2to2-2_2_1', 'file': 'output/simonnet_e1_1-2to2-2_2_1_output.xml', 'lane': '1/2to2/2_2', 'pos': '452.29999999999995', 'type': 'e1Detector'}, 'e2_1-2to2-2_2_0': {'freq': '1', 'friendlyPos': 'x', 'id': 'e2_1-2to2-2_2_0', 'file': 'output/simonnet_e2_1-2to2-2_2_0_output.xml', 'lane': '1/2to2/2_2', 'length': '577.3', 'pos': '0', 'type': 'e2Detector'}}}\n",
      "----------------\n",
      "{}\n",
      "----------------\n",
      "{}\n",
      "----------------\n",
      "{'detectors': {'e1_1-2totop1_2_0': {'freq': '1', 'friendlyPos': 'x', 'id': 'e1_1-2totop1_2_0', 'file': 'output/simonnet_e1_1-2totop1_2_0_output.xml', 'lane': '1/2totop1_2', 'pos': '583.65', 'type': 'e1Detector'}, 'e1_1-2totop1_2_1': {'freq': '1', 'friendlyPos': 'x', 'id': 'e1_1-2totop1_2_1', 'file': 'output/simonnet_e1_1-2totop1_2_1_output.xml', 'lane': '1/2totop1_2', 'pos': '463.65', 'type': 'e1Detector'}, 'e2_1-2totop1_2_0': {'freq': '1', 'friendlyPos': 'x', 'id': 'e2_1-2totop1_2_0', 'file': 'output/simonnet_e2_1-2totop1_2_0_output.xml', 'lane': '1/2totop1_2', 'length': '588.65', 'pos': '0', 'type': 'e2Detector'}}}\n",
      "----------------\n",
      "{'detectors': {'e1_2-0to1-0_0_0': {'freq': '1', 'friendlyPos': 'x', 'id': 'e1_2-0to1-0_0_0', 'file': 'output/simonnet_e1_2-0to1-0_0_0_output.xml', 'lane': '2/0to1/0_0', 'pos': '572.3', 'type': 'e1Detector'}, 'e1_2-0to1-0_0_1': {'freq': '1', 'friendlyPos': 'x', 'id': 'e1_2-0to1-0_0_1', 'file': 'output/simonnet_e1_2-0to1-0_0_1_output.xml', 'lane': '2/0to1/0_0', 'pos': '452.29999999999995', 'type': 'e1Detector'}, 'e2_2-0to1-0_0_0': {'freq': '1', 'friendlyPos': 'x', 'id': 'e2_2-0to1-0_0_0', 'file': 'output/simonnet_e2_2-0to1-0_0_0_output.xml', 'lane': '2/0to1/0_0', 'length': '577.3', 'pos': '0', 'type': 'e2Detector'}}}\n",
      "----------------\n",
      "{'detectors': {'e1_2-0to1-0_1_0': {'freq': '1', 'friendlyPos': 'x', 'id': 'e1_2-0to1-0_1_0', 'file': 'output/simonnet_e1_2-0to1-0_1_0_output.xml', 'lane': '2/0to1/0_1', 'pos': '572.3', 'type': 'e1Detector'}, 'e1_2-0to1-0_1_1': {'freq': '1', 'friendlyPos': 'x', 'id': 'e1_2-0to1-0_1_1', 'file': 'output/simonnet_e1_2-0to1-0_1_1_output.xml', 'lane': '2/0to1/0_1', 'pos': '452.29999999999995', 'type': 'e1Detector'}, 'e2_2-0to1-0_1_0': {'freq': '1', 'friendlyPos': 'x', 'id': 'e2_2-0to1-0_1_0', 'file': 'output/simonnet_e2_2-0to1-0_1_0_output.xml', 'lane': '2/0to1/0_1', 'length': '577.3', 'pos': '0', 'type': 'e2Detector'}}}\n",
      "----------------\n",
      "{'detectors': {'e1_2-0to1-0_2_0': {'freq': '1', 'friendlyPos': 'x', 'id': 'e1_2-0to1-0_2_0', 'file': 'output/simonnet_e1_2-0to1-0_2_0_output.xml', 'lane': '2/0to1/0_2', 'pos': '572.3', 'type': 'e1Detector'}, 'e1_2-0to1-0_2_1': {'freq': '1', 'friendlyPos': 'x', 'id': 'e1_2-0to1-0_2_1', 'file': 'output/simonnet_e1_2-0to1-0_2_1_output.xml', 'lane': '2/0to1/0_2', 'pos': '452.29999999999995', 'type': 'e1Detector'}, 'e2_2-0to1-0_2_0': {'freq': '1', 'friendlyPos': 'x', 'id': 'e2_2-0to1-0_2_0', 'file': 'output/simonnet_e2_2-0to1-0_2_0_output.xml', 'lane': '2/0to1/0_2', 'length': '577.3', 'pos': '0', 'type': 'e2Detector'}}}\n",
      "----------------\n",
      "{'detectors': {'e1_2-0to2-1_0_0': {'freq': '1', 'friendlyPos': 'x', 'id': 'e1_2-0to2-1_0_0', 'file': 'output/simonnet_e1_2-0to2-1_0_0_output.xml', 'lane': '2/0to2/1_0', 'pos': '572.3', 'type': 'e1Detector'}, 'e1_2-0to2-1_0_1': {'freq': '1', 'friendlyPos': 'x', 'id': 'e1_2-0to2-1_0_1', 'file': 'output/simonnet_e1_2-0to2-1_0_1_output.xml', 'lane': '2/0to2/1_0', 'pos': '452.29999999999995', 'type': 'e1Detector'}, 'e2_2-0to2-1_0_0': {'freq': '1', 'friendlyPos': 'x', 'id': 'e2_2-0to2-1_0_0', 'file': 'output/simonnet_e2_2-0to2-1_0_0_output.xml', 'lane': '2/0to2/1_0', 'length': '577.3', 'pos': '0', 'type': 'e2Detector'}}}\n",
      "----------------\n",
      "{'detectors': {'e1_2-0to2-1_1_0': {'freq': '1', 'friendlyPos': 'x', 'id': 'e1_2-0to2-1_1_0', 'file': 'output/simonnet_e1_2-0to2-1_1_0_output.xml', 'lane': '2/0to2/1_1', 'pos': '572.3', 'type': 'e1Detector'}, 'e1_2-0to2-1_1_1': {'freq': '1', 'friendlyPos': 'x', 'id': 'e1_2-0to2-1_1_1', 'file': 'output/simonnet_e1_2-0to2-1_1_1_output.xml', 'lane': '2/0to2/1_1', 'pos': '452.29999999999995', 'type': 'e1Detector'}, 'e2_2-0to2-1_1_0': {'freq': '1', 'friendlyPos': 'x', 'id': 'e2_2-0to2-1_1_0', 'file': 'output/simonnet_e2_2-0to2-1_1_0_output.xml', 'lane': '2/0to2/1_1', 'length': '577.3', 'pos': '0', 'type': 'e2Detector'}}}\n",
      "----------------\n",
      "{'detectors': {'e1_2-0to2-1_2_0': {'freq': '1', 'friendlyPos': 'x', 'id': 'e1_2-0to2-1_2_0', 'file': 'output/simonnet_e1_2-0to2-1_2_0_output.xml', 'lane': '2/0to2/1_2', 'pos': '572.3', 'type': 'e1Detector'}, 'e1_2-0to2-1_2_1': {'freq': '1', 'friendlyPos': 'x', 'id': 'e1_2-0to2-1_2_1', 'file': 'output/simonnet_e1_2-0to2-1_2_1_output.xml', 'lane': '2/0to2/1_2', 'pos': '452.29999999999995', 'type': 'e1Detector'}, 'e2_2-0to2-1_2_0': {'freq': '1', 'friendlyPos': 'x', 'id': 'e2_2-0to2-1_2_0', 'file': 'output/simonnet_e2_2-0to2-1_2_0_output.xml', 'lane': '2/0to2/1_2', 'length': '577.3', 'pos': '0', 'type': 'e2Detector'}}}\n",
      "----------------\n",
      "{}\n",
      "----------------\n",
      "{}\n",
      "----------------\n",
      "{'detectors': {'e1_2-0tobottom2_2_0': {'freq': '1', 'friendlyPos': 'x', 'id': 'e1_2-0tobottom2_2_0', 'file': 'output/simonnet_e1_2-0tobottom2_2_0_output.xml', 'lane': '2/0tobottom2_2', 'pos': '583.65', 'type': 'e1Detector'}, 'e1_2-0tobottom2_2_1': {'freq': '1', 'friendlyPos': 'x', 'id': 'e1_2-0tobottom2_2_1', 'file': 'output/simonnet_e1_2-0tobottom2_2_1_output.xml', 'lane': '2/0tobottom2_2', 'pos': '463.65', 'type': 'e1Detector'}, 'e2_2-0tobottom2_2_0': {'freq': '1', 'friendlyPos': 'x', 'id': 'e2_2-0tobottom2_2_0', 'file': 'output/simonnet_e2_2-0tobottom2_2_0_output.xml', 'lane': '2/0tobottom2_2', 'length': '588.65', 'pos': '0', 'type': 'e2Detector'}}}\n",
      "----------------\n",
      "{}\n",
      "----------------\n",
      "{}\n",
      "----------------\n",
      "{'detectors': {'e1_2-0toright0_2_0': {'freq': '1', 'friendlyPos': 'x', 'id': 'e1_2-0toright0_2_0', 'file': 'output/simonnet_e1_2-0toright0_2_0_output.xml', 'lane': '2/0toright0_2', 'pos': '583.65', 'type': 'e1Detector'}, 'e1_2-0toright0_2_1': {'freq': '1', 'friendlyPos': 'x', 'id': 'e1_2-0toright0_2_1', 'file': 'output/simonnet_e1_2-0toright0_2_1_output.xml', 'lane': '2/0toright0_2', 'pos': '463.65', 'type': 'e1Detector'}, 'e2_2-0toright0_2_0': {'freq': '1', 'friendlyPos': 'x', 'id': 'e2_2-0toright0_2_0', 'file': 'output/simonnet_e2_2-0toright0_2_0_output.xml', 'lane': '2/0toright0_2', 'length': '588.65', 'pos': '0', 'type': 'e2Detector'}}}\n",
      "----------------\n",
      "{'detectors': {'e1_2-1to1-1_0_0': {'freq': '1', 'friendlyPos': 'x', 'id': 'e1_2-1to1-1_0_0', 'file': 'output/simonnet_e1_2-1to1-1_0_0_output.xml', 'lane': '2/1to1/1_0', 'pos': '572.3', 'type': 'e1Detector'}, 'e1_2-1to1-1_0_1': {'freq': '1', 'friendlyPos': 'x', 'id': 'e1_2-1to1-1_0_1', 'file': 'output/simonnet_e1_2-1to1-1_0_1_output.xml', 'lane': '2/1to1/1_0', 'pos': '452.29999999999995', 'type': 'e1Detector'}, 'e2_2-1to1-1_0_0': {'freq': '1', 'friendlyPos': 'x', 'id': 'e2_2-1to1-1_0_0', 'file': 'output/simonnet_e2_2-1to1-1_0_0_output.xml', 'lane': '2/1to1/1_0', 'length': '577.3', 'pos': '0', 'type': 'e2Detector'}}}\n",
      "----------------\n",
      "{'detectors': {'e1_2-1to1-1_1_0': {'freq': '1', 'friendlyPos': 'x', 'id': 'e1_2-1to1-1_1_0', 'file': 'output/simonnet_e1_2-1to1-1_1_0_output.xml', 'lane': '2/1to1/1_1', 'pos': '572.3', 'type': 'e1Detector'}, 'e1_2-1to1-1_1_1': {'freq': '1', 'friendlyPos': 'x', 'id': 'e1_2-1to1-1_1_1', 'file': 'output/simonnet_e1_2-1to1-1_1_1_output.xml', 'lane': '2/1to1/1_1', 'pos': '452.29999999999995', 'type': 'e1Detector'}, 'e2_2-1to1-1_1_0': {'freq': '1', 'friendlyPos': 'x', 'id': 'e2_2-1to1-1_1_0', 'file': 'output/simonnet_e2_2-1to1-1_1_0_output.xml', 'lane': '2/1to1/1_1', 'length': '577.3', 'pos': '0', 'type': 'e2Detector'}}}\n",
      "----------------\n",
      "{'detectors': {'e1_2-1to1-1_2_0': {'freq': '1', 'friendlyPos': 'x', 'id': 'e1_2-1to1-1_2_0', 'file': 'output/simonnet_e1_2-1to1-1_2_0_output.xml', 'lane': '2/1to1/1_2', 'pos': '572.3', 'type': 'e1Detector'}, 'e1_2-1to1-1_2_1': {'freq': '1', 'friendlyPos': 'x', 'id': 'e1_2-1to1-1_2_1', 'file': 'output/simonnet_e1_2-1to1-1_2_1_output.xml', 'lane': '2/1to1/1_2', 'pos': '452.29999999999995', 'type': 'e1Detector'}, 'e2_2-1to1-1_2_0': {'freq': '1', 'friendlyPos': 'x', 'id': 'e2_2-1to1-1_2_0', 'file': 'output/simonnet_e2_2-1to1-1_2_0_output.xml', 'lane': '2/1to1/1_2', 'length': '577.3', 'pos': '0', 'type': 'e2Detector'}}}\n",
      "----------------\n",
      "{'detectors': {'e1_2-1to2-0_0_0': {'freq': '1', 'friendlyPos': 'x', 'id': 'e1_2-1to2-0_0_0', 'file': 'output/simonnet_e1_2-1to2-0_0_0_output.xml', 'lane': '2/1to2/0_0', 'pos': '572.3', 'type': 'e1Detector'}, 'e1_2-1to2-0_0_1': {'freq': '1', 'friendlyPos': 'x', 'id': 'e1_2-1to2-0_0_1', 'file': 'output/simonnet_e1_2-1to2-0_0_1_output.xml', 'lane': '2/1to2/0_0', 'pos': '452.29999999999995', 'type': 'e1Detector'}, 'e2_2-1to2-0_0_0': {'freq': '1', 'friendlyPos': 'x', 'id': 'e2_2-1to2-0_0_0', 'file': 'output/simonnet_e2_2-1to2-0_0_0_output.xml', 'lane': '2/1to2/0_0', 'length': '577.3', 'pos': '0', 'type': 'e2Detector'}}}\n",
      "----------------\n",
      "{'detectors': {'e1_2-1to2-0_1_0': {'freq': '1', 'friendlyPos': 'x', 'id': 'e1_2-1to2-0_1_0', 'file': 'output/simonnet_e1_2-1to2-0_1_0_output.xml', 'lane': '2/1to2/0_1', 'pos': '572.3', 'type': 'e1Detector'}, 'e1_2-1to2-0_1_1': {'freq': '1', 'friendlyPos': 'x', 'id': 'e1_2-1to2-0_1_1', 'file': 'output/simonnet_e1_2-1to2-0_1_1_output.xml', 'lane': '2/1to2/0_1', 'pos': '452.29999999999995', 'type': 'e1Detector'}, 'e2_2-1to2-0_1_0': {'freq': '1', 'friendlyPos': 'x', 'id': 'e2_2-1to2-0_1_0', 'file': 'output/simonnet_e2_2-1to2-0_1_0_output.xml', 'lane': '2/1to2/0_1', 'length': '577.3', 'pos': '0', 'type': 'e2Detector'}}}\n",
      "----------------\n",
      "{'detectors': {'e1_2-1to2-0_2_0': {'freq': '1', 'friendlyPos': 'x', 'id': 'e1_2-1to2-0_2_0', 'file': 'output/simonnet_e1_2-1to2-0_2_0_output.xml', 'lane': '2/1to2/0_2', 'pos': '572.3', 'type': 'e1Detector'}, 'e1_2-1to2-0_2_1': {'freq': '1', 'friendlyPos': 'x', 'id': 'e1_2-1to2-0_2_1', 'file': 'output/simonnet_e1_2-1to2-0_2_1_output.xml', 'lane': '2/1to2/0_2', 'pos': '452.29999999999995', 'type': 'e1Detector'}, 'e2_2-1to2-0_2_0': {'freq': '1', 'friendlyPos': 'x', 'id': 'e2_2-1to2-0_2_0', 'file': 'output/simonnet_e2_2-1to2-0_2_0_output.xml', 'lane': '2/1to2/0_2', 'length': '577.3', 'pos': '0', 'type': 'e2Detector'}}}\n",
      "----------------\n",
      "{'detectors': {'e1_2-1to2-2_0_0': {'freq': '1', 'friendlyPos': 'x', 'id': 'e1_2-1to2-2_0_0', 'file': 'output/simonnet_e1_2-1to2-2_0_0_output.xml', 'lane': '2/1to2/2_0', 'pos': '572.3', 'type': 'e1Detector'}, 'e1_2-1to2-2_0_1': {'freq': '1', 'friendlyPos': 'x', 'id': 'e1_2-1to2-2_0_1', 'file': 'output/simonnet_e1_2-1to2-2_0_1_output.xml', 'lane': '2/1to2/2_0', 'pos': '452.29999999999995', 'type': 'e1Detector'}, 'e2_2-1to2-2_0_0': {'freq': '1', 'friendlyPos': 'x', 'id': 'e2_2-1to2-2_0_0', 'file': 'output/simonnet_e2_2-1to2-2_0_0_output.xml', 'lane': '2/1to2/2_0', 'length': '577.3', 'pos': '0', 'type': 'e2Detector'}}}\n",
      "----------------\n",
      "{'detectors': {'e1_2-1to2-2_1_0': {'freq': '1', 'friendlyPos': 'x', 'id': 'e1_2-1to2-2_1_0', 'file': 'output/simonnet_e1_2-1to2-2_1_0_output.xml', 'lane': '2/1to2/2_1', 'pos': '572.3', 'type': 'e1Detector'}, 'e1_2-1to2-2_1_1': {'freq': '1', 'friendlyPos': 'x', 'id': 'e1_2-1to2-2_1_1', 'file': 'output/simonnet_e1_2-1to2-2_1_1_output.xml', 'lane': '2/1to2/2_1', 'pos': '452.29999999999995', 'type': 'e1Detector'}, 'e2_2-1to2-2_1_0': {'freq': '1', 'friendlyPos': 'x', 'id': 'e2_2-1to2-2_1_0', 'file': 'output/simonnet_e2_2-1to2-2_1_0_output.xml', 'lane': '2/1to2/2_1', 'length': '577.3', 'pos': '0', 'type': 'e2Detector'}}}\n",
      "----------------\n",
      "{'detectors': {'e1_2-1to2-2_2_0': {'freq': '1', 'friendlyPos': 'x', 'id': 'e1_2-1to2-2_2_0', 'file': 'output/simonnet_e1_2-1to2-2_2_0_output.xml', 'lane': '2/1to2/2_2', 'pos': '572.3', 'type': 'e1Detector'}, 'e1_2-1to2-2_2_1': {'freq': '1', 'friendlyPos': 'x', 'id': 'e1_2-1to2-2_2_1', 'file': 'output/simonnet_e1_2-1to2-2_2_1_output.xml', 'lane': '2/1to2/2_2', 'pos': '452.29999999999995', 'type': 'e1Detector'}, 'e2_2-1to2-2_2_0': {'freq': '1', 'friendlyPos': 'x', 'id': 'e2_2-1to2-2_2_0', 'file': 'output/simonnet_e2_2-1to2-2_2_0_output.xml', 'lane': '2/1to2/2_2', 'length': '577.3', 'pos': '0', 'type': 'e2Detector'}}}\n",
      "----------------\n",
      "{}\n",
      "----------------\n",
      "{}\n",
      "----------------\n",
      "{'detectors': {'e1_2-1toright1_2_0': {'freq': '1', 'friendlyPos': 'x', 'id': 'e1_2-1toright1_2_0', 'file': 'output/simonnet_e1_2-1toright1_2_0_output.xml', 'lane': '2/1toright1_2', 'pos': '583.65', 'type': 'e1Detector'}, 'e1_2-1toright1_2_1': {'freq': '1', 'friendlyPos': 'x', 'id': 'e1_2-1toright1_2_1', 'file': 'output/simonnet_e1_2-1toright1_2_1_output.xml', 'lane': '2/1toright1_2', 'pos': '463.65', 'type': 'e1Detector'}, 'e2_2-1toright1_2_0': {'freq': '1', 'friendlyPos': 'x', 'id': 'e2_2-1toright1_2_0', 'file': 'output/simonnet_e2_2-1toright1_2_0_output.xml', 'lane': '2/1toright1_2', 'length': '588.65', 'pos': '0', 'type': 'e2Detector'}}}\n",
      "----------------\n",
      "{'detectors': {'e1_2-2to1-2_0_0': {'freq': '1', 'friendlyPos': 'x', 'id': 'e1_2-2to1-2_0_0', 'file': 'output/simonnet_e1_2-2to1-2_0_0_output.xml', 'lane': '2/2to1/2_0', 'pos': '572.3', 'type': 'e1Detector'}, 'e1_2-2to1-2_0_1': {'freq': '1', 'friendlyPos': 'x', 'id': 'e1_2-2to1-2_0_1', 'file': 'output/simonnet_e1_2-2to1-2_0_1_output.xml', 'lane': '2/2to1/2_0', 'pos': '452.29999999999995', 'type': 'e1Detector'}, 'e2_2-2to1-2_0_0': {'freq': '1', 'friendlyPos': 'x', 'id': 'e2_2-2to1-2_0_0', 'file': 'output/simonnet_e2_2-2to1-2_0_0_output.xml', 'lane': '2/2to1/2_0', 'length': '577.3', 'pos': '0', 'type': 'e2Detector'}}}\n",
      "----------------\n",
      "{'detectors': {'e1_2-2to1-2_1_0': {'freq': '1', 'friendlyPos': 'x', 'id': 'e1_2-2to1-2_1_0', 'file': 'output/simonnet_e1_2-2to1-2_1_0_output.xml', 'lane': '2/2to1/2_1', 'pos': '572.3', 'type': 'e1Detector'}, 'e1_2-2to1-2_1_1': {'freq': '1', 'friendlyPos': 'x', 'id': 'e1_2-2to1-2_1_1', 'file': 'output/simonnet_e1_2-2to1-2_1_1_output.xml', 'lane': '2/2to1/2_1', 'pos': '452.29999999999995', 'type': 'e1Detector'}, 'e2_2-2to1-2_1_0': {'freq': '1', 'friendlyPos': 'x', 'id': 'e2_2-2to1-2_1_0', 'file': 'output/simonnet_e2_2-2to1-2_1_0_output.xml', 'lane': '2/2to1/2_1', 'length': '577.3', 'pos': '0', 'type': 'e2Detector'}}}\n",
      "----------------\n",
      "{'detectors': {'e1_2-2to1-2_2_0': {'freq': '1', 'friendlyPos': 'x', 'id': 'e1_2-2to1-2_2_0', 'file': 'output/simonnet_e1_2-2to1-2_2_0_output.xml', 'lane': '2/2to1/2_2', 'pos': '572.3', 'type': 'e1Detector'}, 'e1_2-2to1-2_2_1': {'freq': '1', 'friendlyPos': 'x', 'id': 'e1_2-2to1-2_2_1', 'file': 'output/simonnet_e1_2-2to1-2_2_1_output.xml', 'lane': '2/2to1/2_2', 'pos': '452.29999999999995', 'type': 'e1Detector'}, 'e2_2-2to1-2_2_0': {'freq': '1', 'friendlyPos': 'x', 'id': 'e2_2-2to1-2_2_0', 'file': 'output/simonnet_e2_2-2to1-2_2_0_output.xml', 'lane': '2/2to1/2_2', 'length': '577.3', 'pos': '0', 'type': 'e2Detector'}}}\n",
      "----------------\n",
      "{'detectors': {'e1_2-2to2-1_0_0': {'freq': '1', 'friendlyPos': 'x', 'id': 'e1_2-2to2-1_0_0', 'file': 'output/simonnet_e1_2-2to2-1_0_0_output.xml', 'lane': '2/2to2/1_0', 'pos': '572.3', 'type': 'e1Detector'}, 'e1_2-2to2-1_0_1': {'freq': '1', 'friendlyPos': 'x', 'id': 'e1_2-2to2-1_0_1', 'file': 'output/simonnet_e1_2-2to2-1_0_1_output.xml', 'lane': '2/2to2/1_0', 'pos': '452.29999999999995', 'type': 'e1Detector'}, 'e2_2-2to2-1_0_0': {'freq': '1', 'friendlyPos': 'x', 'id': 'e2_2-2to2-1_0_0', 'file': 'output/simonnet_e2_2-2to2-1_0_0_output.xml', 'lane': '2/2to2/1_0', 'length': '577.3', 'pos': '0', 'type': 'e2Detector'}}}\n",
      "----------------\n",
      "{'detectors': {'e1_2-2to2-1_1_0': {'freq': '1', 'friendlyPos': 'x', 'id': 'e1_2-2to2-1_1_0', 'file': 'output/simonnet_e1_2-2to2-1_1_0_output.xml', 'lane': '2/2to2/1_1', 'pos': '572.3', 'type': 'e1Detector'}, 'e1_2-2to2-1_1_1': {'freq': '1', 'friendlyPos': 'x', 'id': 'e1_2-2to2-1_1_1', 'file': 'output/simonnet_e1_2-2to2-1_1_1_output.xml', 'lane': '2/2to2/1_1', 'pos': '452.29999999999995', 'type': 'e1Detector'}, 'e2_2-2to2-1_1_0': {'freq': '1', 'friendlyPos': 'x', 'id': 'e2_2-2to2-1_1_0', 'file': 'output/simonnet_e2_2-2to2-1_1_0_output.xml', 'lane': '2/2to2/1_1', 'length': '577.3', 'pos': '0', 'type': 'e2Detector'}}}\n",
      "----------------\n",
      "{'detectors': {'e1_2-2to2-1_2_0': {'freq': '1', 'friendlyPos': 'x', 'id': 'e1_2-2to2-1_2_0', 'file': 'output/simonnet_e1_2-2to2-1_2_0_output.xml', 'lane': '2/2to2/1_2', 'pos': '572.3', 'type': 'e1Detector'}, 'e1_2-2to2-1_2_1': {'freq': '1', 'friendlyPos': 'x', 'id': 'e1_2-2to2-1_2_1', 'file': 'output/simonnet_e1_2-2to2-1_2_1_output.xml', 'lane': '2/2to2/1_2', 'pos': '452.29999999999995', 'type': 'e1Detector'}, 'e2_2-2to2-1_2_0': {'freq': '1', 'friendlyPos': 'x', 'id': 'e2_2-2to2-1_2_0', 'file': 'output/simonnet_e2_2-2to2-1_2_0_output.xml', 'lane': '2/2to2/1_2', 'length': '577.3', 'pos': '0', 'type': 'e2Detector'}}}\n",
      "----------------\n",
      "{}\n",
      "----------------\n",
      "{}\n",
      "----------------\n",
      "{'detectors': {'e1_2-2toright2_2_0': {'freq': '1', 'friendlyPos': 'x', 'id': 'e1_2-2toright2_2_0', 'file': 'output/simonnet_e1_2-2toright2_2_0_output.xml', 'lane': '2/2toright2_2', 'pos': '583.65', 'type': 'e1Detector'}, 'e1_2-2toright2_2_1': {'freq': '1', 'friendlyPos': 'x', 'id': 'e1_2-2toright2_2_1', 'file': 'output/simonnet_e1_2-2toright2_2_1_output.xml', 'lane': '2/2toright2_2', 'pos': '463.65', 'type': 'e1Detector'}, 'e2_2-2toright2_2_0': {'freq': '1', 'friendlyPos': 'x', 'id': 'e2_2-2toright2_2_0', 'file': 'output/simonnet_e2_2-2toright2_2_0_output.xml', 'lane': '2/2toright2_2', 'length': '588.65', 'pos': '0', 'type': 'e2Detector'}}}\n",
      "----------------\n",
      "{}\n",
      "----------------\n",
      "{}\n",
      "----------------\n",
      "{'detectors': {'e1_2-2totop2_2_0': {'freq': '1', 'friendlyPos': 'x', 'id': 'e1_2-2totop2_2_0', 'file': 'output/simonnet_e1_2-2totop2_2_0_output.xml', 'lane': '2/2totop2_2', 'pos': '583.65', 'type': 'e1Detector'}, 'e1_2-2totop2_2_1': {'freq': '1', 'friendlyPos': 'x', 'id': 'e1_2-2totop2_2_1', 'file': 'output/simonnet_e1_2-2totop2_2_1_output.xml', 'lane': '2/2totop2_2', 'pos': '463.65', 'type': 'e1Detector'}, 'e2_2-2totop2_2_0': {'freq': '1', 'friendlyPos': 'x', 'id': 'e2_2-2totop2_2_0', 'file': 'output/simonnet_e2_2-2totop2_2_0_output.xml', 'lane': '2/2totop2_2', 'length': '588.65', 'pos': '0', 'type': 'e2Detector'}}}\n",
      "----------------\n",
      "{'detectors': {'e1_bottom0to0-0_0_0': {'freq': '1', 'friendlyPos': 'x', 'id': 'e1_bottom0to0-0_0_0', 'file': 'output/simonnet_e1_bottom0to0-0_0_0_output.xml', 'lane': 'bottom0to0/0_0', 'pos': '583.65', 'type': 'e1Detector'}, 'e1_bottom0to0-0_0_1': {'freq': '1', 'friendlyPos': 'x', 'id': 'e1_bottom0to0-0_0_1', 'file': 'output/simonnet_e1_bottom0to0-0_0_1_output.xml', 'lane': 'bottom0to0/0_0', 'pos': '463.65', 'type': 'e1Detector'}, 'e2_bottom0to0-0_0_0': {'freq': '1', 'friendlyPos': 'x', 'id': 'e2_bottom0to0-0_0_0', 'file': 'output/simonnet_e2_bottom0to0-0_0_0_output.xml', 'lane': 'bottom0to0/0_0', 'length': '588.65', 'pos': '0', 'type': 'e2Detector'}}}\n",
      "----------------\n",
      "{'detectors': {'e1_bottom0to0-0_1_0': {'freq': '1', 'friendlyPos': 'x', 'id': 'e1_bottom0to0-0_1_0', 'file': 'output/simonnet_e1_bottom0to0-0_1_0_output.xml', 'lane': 'bottom0to0/0_1', 'pos': '583.65', 'type': 'e1Detector'}, 'e1_bottom0to0-0_1_1': {'freq': '1', 'friendlyPos': 'x', 'id': 'e1_bottom0to0-0_1_1', 'file': 'output/simonnet_e1_bottom0to0-0_1_1_output.xml', 'lane': 'bottom0to0/0_1', 'pos': '463.65', 'type': 'e1Detector'}, 'e2_bottom0to0-0_1_0': {'freq': '1', 'friendlyPos': 'x', 'id': 'e2_bottom0to0-0_1_0', 'file': 'output/simonnet_e2_bottom0to0-0_1_0_output.xml', 'lane': 'bottom0to0/0_1', 'length': '588.65', 'pos': '0', 'type': 'e2Detector'}}}\n",
      "----------------\n",
      "{'detectors': {'e1_bottom0to0-0_2_0': {'freq': '1', 'friendlyPos': 'x', 'id': 'e1_bottom0to0-0_2_0', 'file': 'output/simonnet_e1_bottom0to0-0_2_0_output.xml', 'lane': 'bottom0to0/0_2', 'pos': '583.65', 'type': 'e1Detector'}, 'e1_bottom0to0-0_2_1': {'freq': '1', 'friendlyPos': 'x', 'id': 'e1_bottom0to0-0_2_1', 'file': 'output/simonnet_e1_bottom0to0-0_2_1_output.xml', 'lane': 'bottom0to0/0_2', 'pos': '463.65', 'type': 'e1Detector'}, 'e2_bottom0to0-0_2_0': {'freq': '1', 'friendlyPos': 'x', 'id': 'e2_bottom0to0-0_2_0', 'file': 'output/simonnet_e2_bottom0to0-0_2_0_output.xml', 'lane': 'bottom0to0/0_2', 'length': '588.65', 'pos': '0', 'type': 'e2Detector'}}}\n",
      "----------------\n",
      "{'detectors': {'e1_bottom1to1-0_0_0': {'freq': '1', 'friendlyPos': 'x', 'id': 'e1_bottom1to1-0_0_0', 'file': 'output/simonnet_e1_bottom1to1-0_0_0_output.xml', 'lane': 'bottom1to1/0_0', 'pos': '583.65', 'type': 'e1Detector'}, 'e1_bottom1to1-0_0_1': {'freq': '1', 'friendlyPos': 'x', 'id': 'e1_bottom1to1-0_0_1', 'file': 'output/simonnet_e1_bottom1to1-0_0_1_output.xml', 'lane': 'bottom1to1/0_0', 'pos': '463.65', 'type': 'e1Detector'}, 'e2_bottom1to1-0_0_0': {'freq': '1', 'friendlyPos': 'x', 'id': 'e2_bottom1to1-0_0_0', 'file': 'output/simonnet_e2_bottom1to1-0_0_0_output.xml', 'lane': 'bottom1to1/0_0', 'length': '588.65', 'pos': '0', 'type': 'e2Detector'}}}\n",
      "----------------\n",
      "{'detectors': {'e1_bottom1to1-0_1_0': {'freq': '1', 'friendlyPos': 'x', 'id': 'e1_bottom1to1-0_1_0', 'file': 'output/simonnet_e1_bottom1to1-0_1_0_output.xml', 'lane': 'bottom1to1/0_1', 'pos': '583.65', 'type': 'e1Detector'}, 'e1_bottom1to1-0_1_1': {'freq': '1', 'friendlyPos': 'x', 'id': 'e1_bottom1to1-0_1_1', 'file': 'output/simonnet_e1_bottom1to1-0_1_1_output.xml', 'lane': 'bottom1to1/0_1', 'pos': '463.65', 'type': 'e1Detector'}, 'e2_bottom1to1-0_1_0': {'freq': '1', 'friendlyPos': 'x', 'id': 'e2_bottom1to1-0_1_0', 'file': 'output/simonnet_e2_bottom1to1-0_1_0_output.xml', 'lane': 'bottom1to1/0_1', 'length': '588.65', 'pos': '0', 'type': 'e2Detector'}}}\n",
      "----------------\n",
      "{'detectors': {'e1_bottom1to1-0_2_0': {'freq': '1', 'friendlyPos': 'x', 'id': 'e1_bottom1to1-0_2_0', 'file': 'output/simonnet_e1_bottom1to1-0_2_0_output.xml', 'lane': 'bottom1to1/0_2', 'pos': '583.65', 'type': 'e1Detector'}, 'e1_bottom1to1-0_2_1': {'freq': '1', 'friendlyPos': 'x', 'id': 'e1_bottom1to1-0_2_1', 'file': 'output/simonnet_e1_bottom1to1-0_2_1_output.xml', 'lane': 'bottom1to1/0_2', 'pos': '463.65', 'type': 'e1Detector'}, 'e2_bottom1to1-0_2_0': {'freq': '1', 'friendlyPos': 'x', 'id': 'e2_bottom1to1-0_2_0', 'file': 'output/simonnet_e2_bottom1to1-0_2_0_output.xml', 'lane': 'bottom1to1/0_2', 'length': '588.65', 'pos': '0', 'type': 'e2Detector'}}}\n",
      "----------------\n",
      "{'detectors': {'e1_bottom2to2-0_0_0': {'freq': '1', 'friendlyPos': 'x', 'id': 'e1_bottom2to2-0_0_0', 'file': 'output/simonnet_e1_bottom2to2-0_0_0_output.xml', 'lane': 'bottom2to2/0_0', 'pos': '583.65', 'type': 'e1Detector'}, 'e1_bottom2to2-0_0_1': {'freq': '1', 'friendlyPos': 'x', 'id': 'e1_bottom2to2-0_0_1', 'file': 'output/simonnet_e1_bottom2to2-0_0_1_output.xml', 'lane': 'bottom2to2/0_0', 'pos': '463.65', 'type': 'e1Detector'}, 'e2_bottom2to2-0_0_0': {'freq': '1', 'friendlyPos': 'x', 'id': 'e2_bottom2to2-0_0_0', 'file': 'output/simonnet_e2_bottom2to2-0_0_0_output.xml', 'lane': 'bottom2to2/0_0', 'length': '588.65', 'pos': '0', 'type': 'e2Detector'}}}\n",
      "----------------\n",
      "{'detectors': {'e1_bottom2to2-0_1_0': {'freq': '1', 'friendlyPos': 'x', 'id': 'e1_bottom2to2-0_1_0', 'file': 'output/simonnet_e1_bottom2to2-0_1_0_output.xml', 'lane': 'bottom2to2/0_1', 'pos': '583.65', 'type': 'e1Detector'}, 'e1_bottom2to2-0_1_1': {'freq': '1', 'friendlyPos': 'x', 'id': 'e1_bottom2to2-0_1_1', 'file': 'output/simonnet_e1_bottom2to2-0_1_1_output.xml', 'lane': 'bottom2to2/0_1', 'pos': '463.65', 'type': 'e1Detector'}, 'e2_bottom2to2-0_1_0': {'freq': '1', 'friendlyPos': 'x', 'id': 'e2_bottom2to2-0_1_0', 'file': 'output/simonnet_e2_bottom2to2-0_1_0_output.xml', 'lane': 'bottom2to2/0_1', 'length': '588.65', 'pos': '0', 'type': 'e2Detector'}}}\n",
      "----------------\n",
      "{'detectors': {'e1_bottom2to2-0_2_0': {'freq': '1', 'friendlyPos': 'x', 'id': 'e1_bottom2to2-0_2_0', 'file': 'output/simonnet_e1_bottom2to2-0_2_0_output.xml', 'lane': 'bottom2to2/0_2', 'pos': '583.65', 'type': 'e1Detector'}, 'e1_bottom2to2-0_2_1': {'freq': '1', 'friendlyPos': 'x', 'id': 'e1_bottom2to2-0_2_1', 'file': 'output/simonnet_e1_bottom2to2-0_2_1_output.xml', 'lane': 'bottom2to2/0_2', 'pos': '463.65', 'type': 'e1Detector'}, 'e2_bottom2to2-0_2_0': {'freq': '1', 'friendlyPos': 'x', 'id': 'e2_bottom2to2-0_2_0', 'file': 'output/simonnet_e2_bottom2to2-0_2_0_output.xml', 'lane': 'bottom2to2/0_2', 'length': '588.65', 'pos': '0', 'type': 'e2Detector'}}}\n",
      "----------------\n",
      "{'detectors': {'e1_left0to0-0_0_0': {'freq': '1', 'friendlyPos': 'x', 'id': 'e1_left0to0-0_0_0', 'file': 'output/simonnet_e1_left0to0-0_0_0_output.xml', 'lane': 'left0to0/0_0', 'pos': '583.65', 'type': 'e1Detector'}, 'e1_left0to0-0_0_1': {'freq': '1', 'friendlyPos': 'x', 'id': 'e1_left0to0-0_0_1', 'file': 'output/simonnet_e1_left0to0-0_0_1_output.xml', 'lane': 'left0to0/0_0', 'pos': '463.65', 'type': 'e1Detector'}, 'e2_left0to0-0_0_0': {'freq': '1', 'friendlyPos': 'x', 'id': 'e2_left0to0-0_0_0', 'file': 'output/simonnet_e2_left0to0-0_0_0_output.xml', 'lane': 'left0to0/0_0', 'length': '588.65', 'pos': '0', 'type': 'e2Detector'}}}\n",
      "----------------\n",
      "{'detectors': {'e1_left0to0-0_1_0': {'freq': '1', 'friendlyPos': 'x', 'id': 'e1_left0to0-0_1_0', 'file': 'output/simonnet_e1_left0to0-0_1_0_output.xml', 'lane': 'left0to0/0_1', 'pos': '583.65', 'type': 'e1Detector'}, 'e1_left0to0-0_1_1': {'freq': '1', 'friendlyPos': 'x', 'id': 'e1_left0to0-0_1_1', 'file': 'output/simonnet_e1_left0to0-0_1_1_output.xml', 'lane': 'left0to0/0_1', 'pos': '463.65', 'type': 'e1Detector'}, 'e2_left0to0-0_1_0': {'freq': '1', 'friendlyPos': 'x', 'id': 'e2_left0to0-0_1_0', 'file': 'output/simonnet_e2_left0to0-0_1_0_output.xml', 'lane': 'left0to0/0_1', 'length': '588.65', 'pos': '0', 'type': 'e2Detector'}}}\n",
      "----------------\n",
      "{'detectors': {'e1_left0to0-0_2_0': {'freq': '1', 'friendlyPos': 'x', 'id': 'e1_left0to0-0_2_0', 'file': 'output/simonnet_e1_left0to0-0_2_0_output.xml', 'lane': 'left0to0/0_2', 'pos': '583.65', 'type': 'e1Detector'}, 'e1_left0to0-0_2_1': {'freq': '1', 'friendlyPos': 'x', 'id': 'e1_left0to0-0_2_1', 'file': 'output/simonnet_e1_left0to0-0_2_1_output.xml', 'lane': 'left0to0/0_2', 'pos': '463.65', 'type': 'e1Detector'}, 'e2_left0to0-0_2_0': {'freq': '1', 'friendlyPos': 'x', 'id': 'e2_left0to0-0_2_0', 'file': 'output/simonnet_e2_left0to0-0_2_0_output.xml', 'lane': 'left0to0/0_2', 'length': '588.65', 'pos': '0', 'type': 'e2Detector'}}}\n",
      "----------------\n",
      "{'detectors': {'e1_left1to0-1_0_0': {'freq': '1', 'friendlyPos': 'x', 'id': 'e1_left1to0-1_0_0', 'file': 'output/simonnet_e1_left1to0-1_0_0_output.xml', 'lane': 'left1to0/1_0', 'pos': '583.65', 'type': 'e1Detector'}, 'e1_left1to0-1_0_1': {'freq': '1', 'friendlyPos': 'x', 'id': 'e1_left1to0-1_0_1', 'file': 'output/simonnet_e1_left1to0-1_0_1_output.xml', 'lane': 'left1to0/1_0', 'pos': '463.65', 'type': 'e1Detector'}, 'e2_left1to0-1_0_0': {'freq': '1', 'friendlyPos': 'x', 'id': 'e2_left1to0-1_0_0', 'file': 'output/simonnet_e2_left1to0-1_0_0_output.xml', 'lane': 'left1to0/1_0', 'length': '588.65', 'pos': '0', 'type': 'e2Detector'}}}\n",
      "----------------\n",
      "{'detectors': {'e1_left1to0-1_1_0': {'freq': '1', 'friendlyPos': 'x', 'id': 'e1_left1to0-1_1_0', 'file': 'output/simonnet_e1_left1to0-1_1_0_output.xml', 'lane': 'left1to0/1_1', 'pos': '583.65', 'type': 'e1Detector'}, 'e1_left1to0-1_1_1': {'freq': '1', 'friendlyPos': 'x', 'id': 'e1_left1to0-1_1_1', 'file': 'output/simonnet_e1_left1to0-1_1_1_output.xml', 'lane': 'left1to0/1_1', 'pos': '463.65', 'type': 'e1Detector'}, 'e2_left1to0-1_1_0': {'freq': '1', 'friendlyPos': 'x', 'id': 'e2_left1to0-1_1_0', 'file': 'output/simonnet_e2_left1to0-1_1_0_output.xml', 'lane': 'left1to0/1_1', 'length': '588.65', 'pos': '0', 'type': 'e2Detector'}}}\n",
      "----------------\n",
      "{'detectors': {'e1_left1to0-1_2_0': {'freq': '1', 'friendlyPos': 'x', 'id': 'e1_left1to0-1_2_0', 'file': 'output/simonnet_e1_left1to0-1_2_0_output.xml', 'lane': 'left1to0/1_2', 'pos': '583.65', 'type': 'e1Detector'}, 'e1_left1to0-1_2_1': {'freq': '1', 'friendlyPos': 'x', 'id': 'e1_left1to0-1_2_1', 'file': 'output/simonnet_e1_left1to0-1_2_1_output.xml', 'lane': 'left1to0/1_2', 'pos': '463.65', 'type': 'e1Detector'}, 'e2_left1to0-1_2_0': {'freq': '1', 'friendlyPos': 'x', 'id': 'e2_left1to0-1_2_0', 'file': 'output/simonnet_e2_left1to0-1_2_0_output.xml', 'lane': 'left1to0/1_2', 'length': '588.65', 'pos': '0', 'type': 'e2Detector'}}}\n",
      "----------------\n",
      "{'detectors': {'e1_left2to0-2_0_0': {'freq': '1', 'friendlyPos': 'x', 'id': 'e1_left2to0-2_0_0', 'file': 'output/simonnet_e1_left2to0-2_0_0_output.xml', 'lane': 'left2to0/2_0', 'pos': '583.65', 'type': 'e1Detector'}, 'e1_left2to0-2_0_1': {'freq': '1', 'friendlyPos': 'x', 'id': 'e1_left2to0-2_0_1', 'file': 'output/simonnet_e1_left2to0-2_0_1_output.xml', 'lane': 'left2to0/2_0', 'pos': '463.65', 'type': 'e1Detector'}, 'e2_left2to0-2_0_0': {'freq': '1', 'friendlyPos': 'x', 'id': 'e2_left2to0-2_0_0', 'file': 'output/simonnet_e2_left2to0-2_0_0_output.xml', 'lane': 'left2to0/2_0', 'length': '588.65', 'pos': '0', 'type': 'e2Detector'}}}\n",
      "----------------\n",
      "{'detectors': {'e1_left2to0-2_1_0': {'freq': '1', 'friendlyPos': 'x', 'id': 'e1_left2to0-2_1_0', 'file': 'output/simonnet_e1_left2to0-2_1_0_output.xml', 'lane': 'left2to0/2_1', 'pos': '583.65', 'type': 'e1Detector'}, 'e1_left2to0-2_1_1': {'freq': '1', 'friendlyPos': 'x', 'id': 'e1_left2to0-2_1_1', 'file': 'output/simonnet_e1_left2to0-2_1_1_output.xml', 'lane': 'left2to0/2_1', 'pos': '463.65', 'type': 'e1Detector'}, 'e2_left2to0-2_1_0': {'freq': '1', 'friendlyPos': 'x', 'id': 'e2_left2to0-2_1_0', 'file': 'output/simonnet_e2_left2to0-2_1_0_output.xml', 'lane': 'left2to0/2_1', 'length': '588.65', 'pos': '0', 'type': 'e2Detector'}}}\n",
      "----------------\n",
      "{'detectors': {'e1_left2to0-2_2_0': {'freq': '1', 'friendlyPos': 'x', 'id': 'e1_left2to0-2_2_0', 'file': 'output/simonnet_e1_left2to0-2_2_0_output.xml', 'lane': 'left2to0/2_2', 'pos': '583.65', 'type': 'e1Detector'}, 'e1_left2to0-2_2_1': {'freq': '1', 'friendlyPos': 'x', 'id': 'e1_left2to0-2_2_1', 'file': 'output/simonnet_e1_left2to0-2_2_1_output.xml', 'lane': 'left2to0/2_2', 'pos': '463.65', 'type': 'e1Detector'}, 'e2_left2to0-2_2_0': {'freq': '1', 'friendlyPos': 'x', 'id': 'e2_left2to0-2_2_0', 'file': 'output/simonnet_e2_left2to0-2_2_0_output.xml', 'lane': 'left2to0/2_2', 'length': '588.65', 'pos': '0', 'type': 'e2Detector'}}}\n",
      "----------------\n",
      "{'detectors': {'e1_right0to2-0_0_0': {'freq': '1', 'friendlyPos': 'x', 'id': 'e1_right0to2-0_0_0', 'file': 'output/simonnet_e1_right0to2-0_0_0_output.xml', 'lane': 'right0to2/0_0', 'pos': '583.65', 'type': 'e1Detector'}, 'e1_right0to2-0_0_1': {'freq': '1', 'friendlyPos': 'x', 'id': 'e1_right0to2-0_0_1', 'file': 'output/simonnet_e1_right0to2-0_0_1_output.xml', 'lane': 'right0to2/0_0', 'pos': '463.65', 'type': 'e1Detector'}, 'e2_right0to2-0_0_0': {'freq': '1', 'friendlyPos': 'x', 'id': 'e2_right0to2-0_0_0', 'file': 'output/simonnet_e2_right0to2-0_0_0_output.xml', 'lane': 'right0to2/0_0', 'length': '588.65', 'pos': '0', 'type': 'e2Detector'}}}\n",
      "----------------\n",
      "{'detectors': {'e1_right0to2-0_1_0': {'freq': '1', 'friendlyPos': 'x', 'id': 'e1_right0to2-0_1_0', 'file': 'output/simonnet_e1_right0to2-0_1_0_output.xml', 'lane': 'right0to2/0_1', 'pos': '583.65', 'type': 'e1Detector'}, 'e1_right0to2-0_1_1': {'freq': '1', 'friendlyPos': 'x', 'id': 'e1_right0to2-0_1_1', 'file': 'output/simonnet_e1_right0to2-0_1_1_output.xml', 'lane': 'right0to2/0_1', 'pos': '463.65', 'type': 'e1Detector'}, 'e2_right0to2-0_1_0': {'freq': '1', 'friendlyPos': 'x', 'id': 'e2_right0to2-0_1_0', 'file': 'output/simonnet_e2_right0to2-0_1_0_output.xml', 'lane': 'right0to2/0_1', 'length': '588.65', 'pos': '0', 'type': 'e2Detector'}}}\n",
      "----------------\n",
      "{'detectors': {'e1_right0to2-0_2_0': {'freq': '1', 'friendlyPos': 'x', 'id': 'e1_right0to2-0_2_0', 'file': 'output/simonnet_e1_right0to2-0_2_0_output.xml', 'lane': 'right0to2/0_2', 'pos': '583.65', 'type': 'e1Detector'}, 'e1_right0to2-0_2_1': {'freq': '1', 'friendlyPos': 'x', 'id': 'e1_right0to2-0_2_1', 'file': 'output/simonnet_e1_right0to2-0_2_1_output.xml', 'lane': 'right0to2/0_2', 'pos': '463.65', 'type': 'e1Detector'}, 'e2_right0to2-0_2_0': {'freq': '1', 'friendlyPos': 'x', 'id': 'e2_right0to2-0_2_0', 'file': 'output/simonnet_e2_right0to2-0_2_0_output.xml', 'lane': 'right0to2/0_2', 'length': '588.65', 'pos': '0', 'type': 'e2Detector'}}}\n",
      "----------------\n",
      "{'detectors': {'e1_right1to2-1_0_0': {'freq': '1', 'friendlyPos': 'x', 'id': 'e1_right1to2-1_0_0', 'file': 'output/simonnet_e1_right1to2-1_0_0_output.xml', 'lane': 'right1to2/1_0', 'pos': '583.65', 'type': 'e1Detector'}, 'e1_right1to2-1_0_1': {'freq': '1', 'friendlyPos': 'x', 'id': 'e1_right1to2-1_0_1', 'file': 'output/simonnet_e1_right1to2-1_0_1_output.xml', 'lane': 'right1to2/1_0', 'pos': '463.65', 'type': 'e1Detector'}, 'e2_right1to2-1_0_0': {'freq': '1', 'friendlyPos': 'x', 'id': 'e2_right1to2-1_0_0', 'file': 'output/simonnet_e2_right1to2-1_0_0_output.xml', 'lane': 'right1to2/1_0', 'length': '588.65', 'pos': '0', 'type': 'e2Detector'}}}\n",
      "----------------\n",
      "{'detectors': {'e1_right1to2-1_1_0': {'freq': '1', 'friendlyPos': 'x', 'id': 'e1_right1to2-1_1_0', 'file': 'output/simonnet_e1_right1to2-1_1_0_output.xml', 'lane': 'right1to2/1_1', 'pos': '583.65', 'type': 'e1Detector'}, 'e1_right1to2-1_1_1': {'freq': '1', 'friendlyPos': 'x', 'id': 'e1_right1to2-1_1_1', 'file': 'output/simonnet_e1_right1to2-1_1_1_output.xml', 'lane': 'right1to2/1_1', 'pos': '463.65', 'type': 'e1Detector'}, 'e2_right1to2-1_1_0': {'freq': '1', 'friendlyPos': 'x', 'id': 'e2_right1to2-1_1_0', 'file': 'output/simonnet_e2_right1to2-1_1_0_output.xml', 'lane': 'right1to2/1_1', 'length': '588.65', 'pos': '0', 'type': 'e2Detector'}}}\n",
      "----------------\n",
      "{'detectors': {'e1_right1to2-1_2_0': {'freq': '1', 'friendlyPos': 'x', 'id': 'e1_right1to2-1_2_0', 'file': 'output/simonnet_e1_right1to2-1_2_0_output.xml', 'lane': 'right1to2/1_2', 'pos': '583.65', 'type': 'e1Detector'}, 'e1_right1to2-1_2_1': {'freq': '1', 'friendlyPos': 'x', 'id': 'e1_right1to2-1_2_1', 'file': 'output/simonnet_e1_right1to2-1_2_1_output.xml', 'lane': 'right1to2/1_2', 'pos': '463.65', 'type': 'e1Detector'}, 'e2_right1to2-1_2_0': {'freq': '1', 'friendlyPos': 'x', 'id': 'e2_right1to2-1_2_0', 'file': 'output/simonnet_e2_right1to2-1_2_0_output.xml', 'lane': 'right1to2/1_2', 'length': '588.65', 'pos': '0', 'type': 'e2Detector'}}}\n",
      "----------------\n",
      "{'detectors': {'e1_right2to2-2_0_0': {'freq': '1', 'friendlyPos': 'x', 'id': 'e1_right2to2-2_0_0', 'file': 'output/simonnet_e1_right2to2-2_0_0_output.xml', 'lane': 'right2to2/2_0', 'pos': '583.65', 'type': 'e1Detector'}, 'e1_right2to2-2_0_1': {'freq': '1', 'friendlyPos': 'x', 'id': 'e1_right2to2-2_0_1', 'file': 'output/simonnet_e1_right2to2-2_0_1_output.xml', 'lane': 'right2to2/2_0', 'pos': '463.65', 'type': 'e1Detector'}, 'e2_right2to2-2_0_0': {'freq': '1', 'friendlyPos': 'x', 'id': 'e2_right2to2-2_0_0', 'file': 'output/simonnet_e2_right2to2-2_0_0_output.xml', 'lane': 'right2to2/2_0', 'length': '588.65', 'pos': '0', 'type': 'e2Detector'}}}\n",
      "----------------\n",
      "{'detectors': {'e1_right2to2-2_1_0': {'freq': '1', 'friendlyPos': 'x', 'id': 'e1_right2to2-2_1_0', 'file': 'output/simonnet_e1_right2to2-2_1_0_output.xml', 'lane': 'right2to2/2_1', 'pos': '583.65', 'type': 'e1Detector'}, 'e1_right2to2-2_1_1': {'freq': '1', 'friendlyPos': 'x', 'id': 'e1_right2to2-2_1_1', 'file': 'output/simonnet_e1_right2to2-2_1_1_output.xml', 'lane': 'right2to2/2_1', 'pos': '463.65', 'type': 'e1Detector'}, 'e2_right2to2-2_1_0': {'freq': '1', 'friendlyPos': 'x', 'id': 'e2_right2to2-2_1_0', 'file': 'output/simonnet_e2_right2to2-2_1_0_output.xml', 'lane': 'right2to2/2_1', 'length': '588.65', 'pos': '0', 'type': 'e2Detector'}}}\n",
      "----------------\n",
      "{'detectors': {'e1_right2to2-2_2_0': {'freq': '1', 'friendlyPos': 'x', 'id': 'e1_right2to2-2_2_0', 'file': 'output/simonnet_e1_right2to2-2_2_0_output.xml', 'lane': 'right2to2/2_2', 'pos': '583.65', 'type': 'e1Detector'}, 'e1_right2to2-2_2_1': {'freq': '1', 'friendlyPos': 'x', 'id': 'e1_right2to2-2_2_1', 'file': 'output/simonnet_e1_right2to2-2_2_1_output.xml', 'lane': 'right2to2/2_2', 'pos': '463.65', 'type': 'e1Detector'}, 'e2_right2to2-2_2_0': {'freq': '1', 'friendlyPos': 'x', 'id': 'e2_right2to2-2_2_0', 'file': 'output/simonnet_e2_right2to2-2_2_0_output.xml', 'lane': 'right2to2/2_2', 'length': '588.65', 'pos': '0', 'type': 'e2Detector'}}}\n",
      "----------------\n",
      "{'detectors': {'e1_top0to0-2_0_0': {'freq': '1', 'friendlyPos': 'x', 'id': 'e1_top0to0-2_0_0', 'file': 'output/simonnet_e1_top0to0-2_0_0_output.xml', 'lane': 'top0to0/2_0', 'pos': '583.65', 'type': 'e1Detector'}, 'e1_top0to0-2_0_1': {'freq': '1', 'friendlyPos': 'x', 'id': 'e1_top0to0-2_0_1', 'file': 'output/simonnet_e1_top0to0-2_0_1_output.xml', 'lane': 'top0to0/2_0', 'pos': '463.65', 'type': 'e1Detector'}, 'e2_top0to0-2_0_0': {'freq': '1', 'friendlyPos': 'x', 'id': 'e2_top0to0-2_0_0', 'file': 'output/simonnet_e2_top0to0-2_0_0_output.xml', 'lane': 'top0to0/2_0', 'length': '588.65', 'pos': '0', 'type': 'e2Detector'}}}\n",
      "----------------\n",
      "{'detectors': {'e1_top0to0-2_1_0': {'freq': '1', 'friendlyPos': 'x', 'id': 'e1_top0to0-2_1_0', 'file': 'output/simonnet_e1_top0to0-2_1_0_output.xml', 'lane': 'top0to0/2_1', 'pos': '583.65', 'type': 'e1Detector'}, 'e1_top0to0-2_1_1': {'freq': '1', 'friendlyPos': 'x', 'id': 'e1_top0to0-2_1_1', 'file': 'output/simonnet_e1_top0to0-2_1_1_output.xml', 'lane': 'top0to0/2_1', 'pos': '463.65', 'type': 'e1Detector'}, 'e2_top0to0-2_1_0': {'freq': '1', 'friendlyPos': 'x', 'id': 'e2_top0to0-2_1_0', 'file': 'output/simonnet_e2_top0to0-2_1_0_output.xml', 'lane': 'top0to0/2_1', 'length': '588.65', 'pos': '0', 'type': 'e2Detector'}}}\n",
      "----------------\n",
      "{'detectors': {'e1_top0to0-2_2_0': {'freq': '1', 'friendlyPos': 'x', 'id': 'e1_top0to0-2_2_0', 'file': 'output/simonnet_e1_top0to0-2_2_0_output.xml', 'lane': 'top0to0/2_2', 'pos': '583.65', 'type': 'e1Detector'}, 'e1_top0to0-2_2_1': {'freq': '1', 'friendlyPos': 'x', 'id': 'e1_top0to0-2_2_1', 'file': 'output/simonnet_e1_top0to0-2_2_1_output.xml', 'lane': 'top0to0/2_2', 'pos': '463.65', 'type': 'e1Detector'}, 'e2_top0to0-2_2_0': {'freq': '1', 'friendlyPos': 'x', 'id': 'e2_top0to0-2_2_0', 'file': 'output/simonnet_e2_top0to0-2_2_0_output.xml', 'lane': 'top0to0/2_2', 'length': '588.65', 'pos': '0', 'type': 'e2Detector'}}}\n",
      "----------------\n",
      "{'detectors': {'e1_top1to1-2_0_0': {'freq': '1', 'friendlyPos': 'x', 'id': 'e1_top1to1-2_0_0', 'file': 'output/simonnet_e1_top1to1-2_0_0_output.xml', 'lane': 'top1to1/2_0', 'pos': '583.65', 'type': 'e1Detector'}, 'e1_top1to1-2_0_1': {'freq': '1', 'friendlyPos': 'x', 'id': 'e1_top1to1-2_0_1', 'file': 'output/simonnet_e1_top1to1-2_0_1_output.xml', 'lane': 'top1to1/2_0', 'pos': '463.65', 'type': 'e1Detector'}, 'e2_top1to1-2_0_0': {'freq': '1', 'friendlyPos': 'x', 'id': 'e2_top1to1-2_0_0', 'file': 'output/simonnet_e2_top1to1-2_0_0_output.xml', 'lane': 'top1to1/2_0', 'length': '588.65', 'pos': '0', 'type': 'e2Detector'}}}\n",
      "----------------\n",
      "{'detectors': {'e1_top1to1-2_1_0': {'freq': '1', 'friendlyPos': 'x', 'id': 'e1_top1to1-2_1_0', 'file': 'output/simonnet_e1_top1to1-2_1_0_output.xml', 'lane': 'top1to1/2_1', 'pos': '583.65', 'type': 'e1Detector'}, 'e1_top1to1-2_1_1': {'freq': '1', 'friendlyPos': 'x', 'id': 'e1_top1to1-2_1_1', 'file': 'output/simonnet_e1_top1to1-2_1_1_output.xml', 'lane': 'top1to1/2_1', 'pos': '463.65', 'type': 'e1Detector'}, 'e2_top1to1-2_1_0': {'freq': '1', 'friendlyPos': 'x', 'id': 'e2_top1to1-2_1_0', 'file': 'output/simonnet_e2_top1to1-2_1_0_output.xml', 'lane': 'top1to1/2_1', 'length': '588.65', 'pos': '0', 'type': 'e2Detector'}}}\n",
      "----------------\n",
      "{'detectors': {'e1_top1to1-2_2_0': {'freq': '1', 'friendlyPos': 'x', 'id': 'e1_top1to1-2_2_0', 'file': 'output/simonnet_e1_top1to1-2_2_0_output.xml', 'lane': 'top1to1/2_2', 'pos': '583.65', 'type': 'e1Detector'}, 'e1_top1to1-2_2_1': {'freq': '1', 'friendlyPos': 'x', 'id': 'e1_top1to1-2_2_1', 'file': 'output/simonnet_e1_top1to1-2_2_1_output.xml', 'lane': 'top1to1/2_2', 'pos': '463.65', 'type': 'e1Detector'}, 'e2_top1to1-2_2_0': {'freq': '1', 'friendlyPos': 'x', 'id': 'e2_top1to1-2_2_0', 'file': 'output/simonnet_e2_top1to1-2_2_0_output.xml', 'lane': 'top1to1/2_2', 'length': '588.65', 'pos': '0', 'type': 'e2Detector'}}}\n",
      "----------------\n",
      "{'detectors': {'e1_top2to2-2_0_0': {'freq': '1', 'friendlyPos': 'x', 'id': 'e1_top2to2-2_0_0', 'file': 'output/simonnet_e1_top2to2-2_0_0_output.xml', 'lane': 'top2to2/2_0', 'pos': '583.65', 'type': 'e1Detector'}, 'e1_top2to2-2_0_1': {'freq': '1', 'friendlyPos': 'x', 'id': 'e1_top2to2-2_0_1', 'file': 'output/simonnet_e1_top2to2-2_0_1_output.xml', 'lane': 'top2to2/2_0', 'pos': '463.65', 'type': 'e1Detector'}, 'e2_top2to2-2_0_0': {'freq': '1', 'friendlyPos': 'x', 'id': 'e2_top2to2-2_0_0', 'file': 'output/simonnet_e2_top2to2-2_0_0_output.xml', 'lane': 'top2to2/2_0', 'length': '588.65', 'pos': '0', 'type': 'e2Detector'}}}\n",
      "----------------\n",
      "{'detectors': {'e1_top2to2-2_1_0': {'freq': '1', 'friendlyPos': 'x', 'id': 'e1_top2to2-2_1_0', 'file': 'output/simonnet_e1_top2to2-2_1_0_output.xml', 'lane': 'top2to2/2_1', 'pos': '583.65', 'type': 'e1Detector'}, 'e1_top2to2-2_1_1': {'freq': '1', 'friendlyPos': 'x', 'id': 'e1_top2to2-2_1_1', 'file': 'output/simonnet_e1_top2to2-2_1_1_output.xml', 'lane': 'top2to2/2_1', 'pos': '463.65', 'type': 'e1Detector'}, 'e2_top2to2-2_1_0': {'freq': '1', 'friendlyPos': 'x', 'id': 'e2_top2to2-2_1_0', 'file': 'output/simonnet_e2_top2to2-2_1_0_output.xml', 'lane': 'top2to2/2_1', 'length': '588.65', 'pos': '0', 'type': 'e2Detector'}}}\n",
      "----------------\n",
      "{'detectors': {'e1_top2to2-2_2_0': {'freq': '1', 'friendlyPos': 'x', 'id': 'e1_top2to2-2_2_0', 'file': 'output/simonnet_e1_top2to2-2_2_0_output.xml', 'lane': 'top2to2/2_2', 'pos': '583.65', 'type': 'e1Detector'}, 'e1_top2to2-2_2_1': {'freq': '1', 'friendlyPos': 'x', 'id': 'e1_top2to2-2_2_1', 'file': 'output/simonnet_e1_top2to2-2_2_1_output.xml', 'lane': 'top2to2/2_2', 'pos': '463.65', 'type': 'e1Detector'}, 'e2_top2to2-2_2_0': {'freq': '1', 'friendlyPos': 'x', 'id': 'e2_top2to2-2_2_0', 'file': 'output/simonnet_e2_top2to2-2_2_0_output.xml', 'lane': 'top2to2/2_2', 'length': '588.65', 'pos': '0', 'type': 'e2Detector'}}}\n",
      "----------------\n"
     ]
    }
   ],
   "source": [
    "# List of all lanes. This is a 5x5 grid-shaped network. In this naming scheme, a lane named x1/y1tox2/y2_z means\n",
    "# it is the zth lane on the road that goes from the junction in the x1/y1 position of the grid to the junction\n",
    "# in the x2/y2 position.\n",
    "# The lanes here are called nodes (rather than edges) because traditionally\n",
    "# in graphs the discrete locations at which data of interest\n",
    "# exist (e.g., our queues and pressure) are thought of as the nodes.\n",
    "#graph.edges[('0/0to0/1_0', '0/1to1/1_0')]\n",
    "#graph.get_edge_data('0/0to0/1_0', '0/1to1/1_0')\n",
    "\n",
    "#graph.nodes['0/0tobottom0_0']\n",
    "\n",
    "\n",
    "for lane in graph.nodes(data=True):\n",
    "    print(lane[1])\n",
    "    print('----------------')\n",
    "    \n",
    "    \n",
    "\n"
   ]
  },
  {
   "cell_type": "code",
   "execution_count": null,
   "metadata": {},
   "outputs": [],
   "source": [
    "# For illustration purposes, pick a specific lane\n",
    "lane = '0/0to0/1_0'"
   ]
  },
  {
   "cell_type": "code",
   "execution_count": null,
   "metadata": {},
   "outputs": [],
   "source": [
    "# This python dict of dicts contains info about each detector on this lane.\n",
    "# There are two types of detectors mentioned here. e1 detectors are simulated loop detectors.\n",
    "# e2 detectors are \"lane area\" detectors that we use to collect ground-truth queue length readings"
   ]
  },
  {
   "cell_type": "code",
   "execution_count": null,
   "metadata": {},
   "outputs": [],
   "source": []
  },
  {
   "cell_type": "markdown",
   "metadata": {
    "scrolled": true
   },
   "source": [
    "graph.node[lane]['detectors']"
   ]
  },
  {
   "cell_type": "code",
   "execution_count": null,
   "metadata": {},
   "outputs": [],
   "source": [
    "# Each key in this dict corresponds to a detector.\n",
    "graph.node[lane]['detectors'].keys()\n",
    "graph.get_edge_data()"
   ]
  },
  {
   "cell_type": "code",
   "execution_count": null,
   "metadata": {},
   "outputs": [],
   "source": [
    "# Querying the information about this particular detector, we see its configuration info\n",
    "# (position, reporting frequency (here, 60s), etc.) as well as a pandas dataframe for its data\n",
    "graph.node[lane]['detectors']['e2_0-0to0-1_0_0']"
   ]
  },
  {
   "cell_type": "code",
   "execution_count": null,
   "metadata": {},
   "outputs": [],
   "source": [
    "# The pandas dataframe above was formed by selecting from this larger dataframe that holds all e1 records\n",
    "all_e1_data = sn.data_dfs[1]"
   ]
  },
  {
   "cell_type": "code",
   "execution_count": null,
   "metadata": {},
   "outputs": [],
   "source": [
    "all_e1_data.head()"
   ]
  },
  {
   "cell_type": "code",
   "execution_count": null,
   "metadata": {},
   "outputs": [],
   "source": [
    "# An easy way to get all data for a particular lane is by selecting from this larger dataframe"
   ]
  },
  {
   "cell_type": "code",
   "execution_count": null,
   "metadata": {},
   "outputs": [],
   "source": [
    "lane_data = all_e1_data.xs(lane, level='node_id')"
   ]
  },
  {
   "cell_type": "code",
   "execution_count": null,
   "metadata": {},
   "outputs": [],
   "source": [
    "lane_data.head()"
   ]
  },
  {
   "cell_type": "code",
   "execution_count": null,
   "metadata": {},
   "outputs": [],
   "source": [
    "all_e2_data = sn.data_dfs[0]"
   ]
  },
  {
   "cell_type": "code",
   "execution_count": null,
   "metadata": {},
   "outputs": [],
   "source": []
  },
  {
   "cell_type": "code",
   "execution_count": null,
   "metadata": {
    "scrolled": true
   },
   "outputs": [],
   "source": [
    "# Edge data: Edges represent connections between two nodes (lanes).\n",
    "# We can all edges:\n",
    "graph.edges"
   ]
  },
  {
   "cell_type": "code",
   "execution_count": null,
   "metadata": {},
   "outputs": [],
   "source": [
    "# Edges that originate from a lane:\n",
    "graph.edges(lane)"
   ]
  },
  {
   "cell_type": "code",
   "execution_count": null,
   "metadata": {
    "scrolled": true
   },
   "outputs": [],
   "source": [
    "# Pick a specific edge to see its data:\n",
    "lane_out = '0/1to0/2_0'\n",
    "graph.edges[(lane, lane_out)]"
   ]
  },
  {
   "cell_type": "code",
   "execution_count": null,
   "metadata": {
    "scrolled": true
   },
   "outputs": [],
   "source": [
    "graph.edges[(lane, lane_out)]['switch_times']"
   ]
  },
  {
   "cell_type": "code",
   "execution_count": null,
   "metadata": {},
   "outputs": [],
   "source": [
    "# This data df is the big one that contains all edge traffic light switch timings.\n",
    "# Right now the only way to get it is to select the last element of this list\n",
    "tls_df = sn.data_dfs[-1]"
   ]
  },
  {
   "cell_type": "code",
   "execution_count": null,
   "metadata": {},
   "outputs": [],
   "source": [
    "tls_df.head()"
   ]
  },
  {
   "cell_type": "code",
   "execution_count": null,
   "metadata": {},
   "outputs": [],
   "source": [
    "tls_df.xs('1/2to1/1_0', level='fromLane')"
   ]
  },
  {
   "cell_type": "markdown",
   "metadata": {},
   "source": [
    "The \"graph\" object we are using is an instance of the DiGraph class from the package \"networkx\". For more documentation on how to work with the nodes and edges in this object, see the documentation for networkx: https://networkx.github.io/documentation/stable/."
   ]
  },
  {
   "cell_type": "code",
   "execution_count": null,
   "metadata": {},
   "outputs": [],
   "source": []
  },
  {
   "cell_type": "code",
   "execution_count": null,
   "metadata": {},
   "outputs": [],
   "source": []
  }
 ],
 "metadata": {
  "kernelspec": {
   "display_name": "Python 3",
   "language": "python",
   "name": "python3"
  },
  "language_info": {
   "codemirror_mode": {
    "name": "ipython",
    "version": 3
   },
   "file_extension": ".py",
   "mimetype": "text/x-python",
   "name": "python",
   "nbconvert_exporter": "python",
   "pygments_lexer": "ipython3",
   "version": "3.6.5"
  }
 },
 "nbformat": 4,
 "nbformat_minor": 2
}
