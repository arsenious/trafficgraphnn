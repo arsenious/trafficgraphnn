{
 "cells": [
  {
   "cell_type": "code",
   "execution_count": 4,
   "metadata": {},
   "outputs": [
    {
     "name": "stderr",
     "output_type": "stream",
     "text": [
      "2018-07-02 21:47:06,737 matplotlib.font_manager DEBUG    Using fontManager instance from /home/simon/.cache/matplotlib/fontList.json\n",
      "2018-07-02 21:47:07,003 matplotlib.backends DEBUG    backend module://ipykernel.pylab.backend_inline version unknown\n",
      "2018-07-02 21:47:16,143 matplotlib.backends DEBUG    backend module://ipykernel.pylab.backend_inline version unknown\n"
     ]
    }
   ],
   "source": [
    "import os, sys\n",
    "import time\n",
    " #inserted from sumo wiki\n",
    "if 'SUMO_HOME' in os.environ:\n",
    "    tools = os.path.join(os.environ['SUMO_HOME'], 'tools')\n",
    "    sys.path.append(tools)\n",
    "else:   \n",
    "    sys.exit(\"please declare environment variable 'SUMO_HOME'\")\n",
    "\n",
    "import logging\n",
    "from trafficgraphnn.utils import iterfy, get_net_dir, get_net_name\n",
    "\n",
    "import sumolib.net\n",
    "from matplotlib import pyplot as plt\n",
    "import numpy as np\n",
    "import pandas as pd\n",
    "import xml.etree.cElementTree as et\n",
    "from trafficgraphnn.sumo_network import SumoNetwork\n",
    "#import traci._lane\n",
    "\n",
    "sn = SumoNetwork(\n",
    "    'data/networks/smallnet/smallnet.net.xml', routefile='data/networks/smallnet/smallnet_rand_routes.routes.xml',\n",
    "    lanewise=True, addlfiles=['data/networks/smallnet/smallnet_additionals.add.xml', 'data/networks/smallnet/tls_output.add.xml']\n",
    ")"
   ]
  },
  {
   "cell_type": "code",
   "execution_count": 5,
   "metadata": {},
   "outputs": [],
   "source": [
    "phase_duration = ['33', '3', '33', '3', '33', '3', '33', '3']\n",
    "phase_state = ['GGGGGGrrrrrrrrrrrrrrrrrr', 'yyyyyyrrrrrrrrrrrrrrrrrr', 'rrrrrrrrrrrrGGGGGGrrrrrr',\n",
    "              'rrrrrrrrrrrryyyyyyrrrrrr', 'rrrrrrrrrrrrrrrrrrGGGGGG', 'rrrrrrrrrrrrrrrrrryyyyyy',\n",
    "              'rrrrrrGGGGGGrrrrrrrrrrrr', 'rrrrrryyyyyyrrrrrrrrrrrr'\n",
    "              ]"
   ]
  },
  {
   "cell_type": "code",
   "execution_count": 9,
   "metadata": {},
   "outputs": [
    {
     "name": "stdout",
     "output_type": "stream",
     "text": [
      "data/networks/smallnet/data/networks/smallnet/smallnet.net.xml\n"
     ]
    }
   ],
   "source": [
    "print(os.path.join(os.path.dirname(sn.netfile), sn.netfile))"
   ]
  },
  {
   "cell_type": "code",
   "execution_count": 10,
   "metadata": {
    "scrolled": false
   },
   "outputs": [
    {
     "name": "stdout",
     "output_type": "stream",
     "text": [
      "net file parsing was successful\n",
      "#####next tlLogic#####\n",
      "33 GGGGGGrrrrrrrrrrrrrrrrrr\n",
      "3 yyyyyyrrrrrrrrrrrrrrrrrr\n",
      "33 rrrrrrrrrrrrGGGGGGrrrrrr\n",
      "3 rrrrrrrrrrrryyyyyyrrrrrr\n",
      "33 rrrrrrrrrrrrrrrrrrGGGGGG\n",
      "3 rrrrrrrrrrrrrrrrrryyyyyy\n",
      "33 rrrrrrGGGGGGrrrrrrrrrrrr\n",
      "3 rrrrrryyyyyyrrrrrrrrrrrr\n",
      "#####next tlLogic#####\n",
      "33 GGGGggrrrrrrGGGGggrrrrrr\n",
      "3 yyyyggrrrrrryyyyggrrrrrr\n",
      "6 rrrrGGrrrrrrrrrrGGrrrrrr\n",
      "3 rrrryyrrrrrrrrrryyrrrrrr\n",
      "33 rrrrrrGGGGggrrrrrrGGGGgg\n",
      "3 rrrrrryyyyggrrrrrryyyygg\n",
      "6 rrrrrrrrrrGGrrrrrrrrrrGG\n",
      "3 rrrrrrrrrryyrrrrrrrrrryy\n",
      "#####next tlLogic#####\n",
      "33 GGGGggrrrrrrGGGGggrrrrrr\n",
      "3 yyyyggrrrrrryyyyggrrrrrr\n",
      "6 rrrrGGrrrrrrrrrrGGrrrrrr\n",
      "3 rrrryyrrrrrrrrrryyrrrrrr\n",
      "33 rrrrrrGGGGggrrrrrrGGGGgg\n",
      "3 rrrrrryyyyggrrrrrryyyygg\n",
      "6 rrrrrrrrrrGGrrrrrrrrrrGG\n",
      "3 rrrrrrrrrryyrrrrrrrrrryy\n",
      "#####next tlLogic#####\n",
      "33 GGGGggrrrrrrGGGGggrrrrrr\n",
      "3 yyyyggrrrrrryyyyggrrrrrr\n",
      "6 rrrrGGrrrrrrrrrrGGrrrrrr\n",
      "3 rrrryyrrrrrrrrrryyrrrrrr\n",
      "33 rrrrrrGGGGggrrrrrrGGGGgg\n",
      "3 rrrrrryyyyggrrrrrryyyygg\n",
      "6 rrrrrrrrrrGGrrrrrrrrrrGG\n",
      "3 rrrrrrrrrryyrrrrrrrrrryy\n",
      "#####next tlLogic#####\n",
      "33 GGGGggrrrrrrGGGGggrrrrrr\n",
      "3 yyyyggrrrrrryyyyggrrrrrr\n",
      "6 rrrrGGrrrrrrrrrrGGrrrrrr\n",
      "3 rrrryyrrrrrrrrrryyrrrrrr\n",
      "33 rrrrrrGGGGggrrrrrrGGGGgg\n",
      "3 rrrrrryyyyggrrrrrryyyygg\n",
      "6 rrrrrrrrrrGGrrrrrrrrrrGG\n",
      "3 rrrrrrrrrryyrrrrrrrrrryy\n",
      "#####next tlLogic#####\n",
      "33 GGGGggrrrrrrGGGGggrrrrrr\n",
      "3 yyyyggrrrrrryyyyggrrrrrr\n",
      "6 rrrrGGrrrrrrrrrrGGrrrrrr\n",
      "3 rrrryyrrrrrrrrrryyrrrrrr\n",
      "33 rrrrrrGGGGggrrrrrrGGGGgg\n",
      "3 rrrrrryyyyggrrrrrryyyygg\n",
      "6 rrrrrrrrrrGGrrrrrrrrrrGG\n",
      "3 rrrrrrrrrryyrrrrrrrrrryy\n",
      "#####next tlLogic#####\n",
      "33 GGGGggrrrrrrGGGGggrrrrrr\n",
      "3 yyyyggrrrrrryyyyggrrrrrr\n",
      "6 rrrrGGrrrrrrrrrrGGrrrrrr\n",
      "3 rrrryyrrrrrrrrrryyrrrrrr\n",
      "33 rrrrrrGGGGggrrrrrrGGGGgg\n",
      "3 rrrrrryyyyggrrrrrryyyygg\n",
      "6 rrrrrrrrrrGGrrrrrrrrrrGG\n",
      "3 rrrrrrrrrryyrrrrrrrrrryy\n",
      "#####next tlLogic#####\n",
      "33 GGGGggrrrrrrGGGGggrrrrrr\n",
      "3 yyyyggrrrrrryyyyggrrrrrr\n",
      "6 rrrrGGrrrrrrrrrrGGrrrrrr\n",
      "3 rrrryyrrrrrrrrrryyrrrrrr\n",
      "33 rrrrrrGGGGggrrrrrrGGGGgg\n",
      "3 rrrrrryyyyggrrrrrryyyygg\n",
      "6 rrrrrrrrrrGGrrrrrrrrrrGG\n",
      "3 rrrrrrrrrryyrrrrrrrrrryy\n",
      "#####next tlLogic#####\n",
      "33 GGGGggrrrrrrGGGGggrrrrrr\n",
      "3 yyyyggrrrrrryyyyggrrrrrr\n",
      "6 rrrrGGrrrrrrrrrrGGrrrrrr\n",
      "3 rrrryyrrrrrrrrrryyrrrrrr\n",
      "33 rrrrrrGGGGggrrrrrrGGGGgg\n",
      "3 rrrrrryyyyggrrrrrryyyygg\n",
      "6 rrrrrrrrrrGGrrrrrrrrrrGG\n",
      "3 rrrrrrrrrryyrrrrrrrrrryy\n",
      "#####next tlLogic#####\n",
      "#####next tlLogic#####\n",
      "#####next tlLogic#####\n",
      "#####next tlLogic#####\n",
      "#####next tlLogic#####\n",
      "#####next tlLogic#####\n",
      "#####next tlLogic#####\n",
      "#####next tlLogic#####\n",
      "#####next tlLogic#####\n",
      "#####next tlLogic#####\n",
      "#####next tlLogic#####\n",
      "#####next tlLogic#####\n"
     ]
    }
   ],
   "source": [
    "parsed_net_tree = et.parse(os.path.join(os.path.dirname(sn.netfile), sn.netfile))\n",
    "print('net file parsing was successful')\n",
    "\n",
    "root = parsed_net_tree.getroot()\n",
    "\n",
    "for child in root:\n",
    "    if child.tag == 'tlLogic':\n",
    "        print('#####next tlLogic#####')\n",
    "        grandchildren = child.getchildren()\n",
    "        if len(grandchildren) == 8:\n",
    "            for phase, cnt in zip(grandchildren, range(0, 8)):\n",
    "                print(phase.get('duration'), phase.get('state'))\n",
    "                child.remove(phase)\n",
    "                attribute = {}\n",
    "                attribute['duration'] = phase_duration[cnt]\n",
    "                attribute['state'] = phase_state[cnt]\n",
    "                et.SubElement(child, 'phase', attribute)\n",
    "            \n",
    "\n",
    "parsed_net_tree.write(os.path.join(os.path.dirname(os.path.dirname(sn.netfile)),\n",
    "                                   'smallnet/smallnet.net.xml'))\n",
    "\n",
    "#for node in parsed_net_file.getroot():  \n",
    "#    node.attrib.get('id')\n"
   ]
  },
  {
   "cell_type": "code",
   "execution_count": null,
   "metadata": {},
   "outputs": [],
   "source": []
  }
 ],
 "metadata": {
  "kernelspec": {
   "display_name": "Python 3",
   "language": "python",
   "name": "python3"
  },
  "language_info": {
   "codemirror_mode": {
    "name": "ipython",
    "version": 3
   },
   "file_extension": ".py",
   "mimetype": "text/x-python",
   "name": "python",
   "nbconvert_exporter": "python",
   "pygments_lexer": "ipython3",
   "version": "3.6.5"
  }
 },
 "nbformat": 4,
 "nbformat_minor": 2
}
